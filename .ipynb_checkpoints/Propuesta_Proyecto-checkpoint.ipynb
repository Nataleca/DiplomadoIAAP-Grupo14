{
  "nbformat": 4,
  "nbformat_minor": 0,
  "metadata": {
    "colab": {
      "name": "Propuesta_Proyecto.ipynb",
      "provenance": [],
      "authorship_tag": "ABX9TyPRRffREtXE5nf0IVFvujzd",
      "include_colab_link": true
    },
    "kernelspec": {
      "name": "python3",
      "display_name": "Python 3"
    }
  },
  "cells": [
    {
      "cell_type": "markdown",
      "metadata": {
        "id": "view-in-github",
        "colab_type": "text"
      },
      "source": [
        "<a href=\"https://colab.research.google.com/github/Nataleca/DiplomadoIAAP-Grupo3/blob/main/Propuesta_Proyecto.ipynb\" target=\"_parent\"><img src=\"https://colab.research.google.com/assets/colab-badge.svg\" alt=\"Open In Colab\"/></a>"
      ]
    },
    {
      "cell_type": "markdown",
      "metadata": {
        "id": "WkK_rAmvwp5S"
      },
      "source": [
        "# **Diplomado en Inteligencia Artificial y Aprendizaje Profundo**\n",
        "\n",
        "## Universidad Nacional de Colombia\n",
        "### Bogotá, 2021\n",
        "\n",
        "\n",
        "\n",
        "---\n",
        "\n",
        "\n",
        "\n",
        "---\n",
        "\n"
      ]
    },
    {
      "cell_type": "markdown",
      "metadata": {
        "id": "TNGrEDMtyEx2"
      },
      "source": [
        "* **Nombre del Proyecto:**  *Asistente de voz para la clasificación y análisis de reseñas para comercios y productos con la finalidad de determinar el posicionamiento de una marca.*\n",
        "\n",
        "\n",
        "* **Integrantes:**\n",
        "  \n",
        "  * Leidy Natalia León Carvajal (lnleonc@unal.edu.co)\n",
        "  * Juan Pablo Mojica Macías (juanpablomojicam@gmail.com)\n",
        "  * Andrés Felipe Nieto Grandas (andresfgrandas@gmail.com)\n",
        "  * Danile Alejandro Osuna Garzón (daosunag@unal.edu.co)\n",
        "\n",
        "\n",
        "* **Descripción General:** Empleando las técnicas para el análsis de sentimiento y el procesamiento de lenguaje natural, se pretende desarrollar una máquina que pueda diferenciar las opiniones de clientes frente a productos y comercios, con la finalidad de emitir recomendaciones por voz y generar un ranking de posicionamiento de marca.\n",
        "\n"
      ]
    },
    {
      "cell_type": "code",
      "metadata": {
        "id": "1XQrrnVwqm9n"
      },
      "source": [
        ""
      ],
      "execution_count": null,
      "outputs": []
    }
  ]
}