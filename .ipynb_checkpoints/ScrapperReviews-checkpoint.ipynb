{
 "cells": [
  {
   "cell_type": "code",
   "execution_count": null,
   "metadata": {},
   "outputs": [],
   "source": [
    "import sys\n",
    "import csv\n",
    "from selenium import webdriver\n",
    "from selenium.webdriver.common.by import By\n",
    "from selenium.webdriver.support.ui import WebDriverWait\n",
    "from selenium.webdriver.support import expected_conditions as EC\n",
    "from selenium.webdriver.chrome.options import Options\n",
    "import time"
   ]
  },
  {
   "cell_type": "code",
   "execution_count": null,
   "metadata": {},
   "outputs": [],
   "source": [
    "path_to_file = \"/home/natalia/Documentos/Jupyter Lab/Proyecto/reviewsmil.csv\""
   ]
  },
  {
   "cell_type": "code",
   "execution_count": null,
   "metadata": {},
   "outputs": [],
   "source": [
    "url = [\"https://www.tripadvisor.co/Restaurant_Review-g294074-d17791983-Reviews-Bon_Market_and_Bar-Bogota.html\",\"https://www.tripadvisor.co/Restaurant_Review-g294074-d12872438-Reviews-Restaurante_Peruano_Indio_De_Machu_Picchu-Bogota.html\"]\n",
    "\n"
   ]
  },
  {
   "cell_type": "code",
   "execution_count": null,
   "metadata": {},
   "outputs": [],
   "source": [
    "csvFile = open(path_to_file, 'a', encoding=\"utf-8\")\n",
    "csvWriter = csv.writer(csvFile)\n",
    "#csvWriter.writerow([\"Fecha\", \"Rating\", \"Titulo\", \"Reviews\",\"Tipo_Comida\",\"Puesto\",\"Rating_Comida\",\"Rating_Servicio\",\"Rating_Calidad_Precio\",\"Rating_Ambiente\"])\n",
    "csvWriter.writerow([\"Nombre\",\"Título\",\"Fecha\", \"Rating\", \"Reviews\",\"Tipo\"])"
   ]
  },
  {
   "cell_type": "code",
   "execution_count": null,
   "metadata": {},
   "outputs": [],
   "source": [
    "#time.sleep(2)\n",
    "#drvr.find_element_by_xpath('//*[@id=\"filters_detail_language:filterLang_es\"]').click()\n"
   ]
  },
  {
   "cell_type": "code",
   "execution_count": null,
   "metadata": {},
   "outputs": [],
   "source": [
    "#options = Options()\n",
    "#options.binary_location = '/usr/bin/brave-browser'\n",
    "#driver_path = '/usr/local/bin/chromedriver'\n",
    "#drvr = webdriver.Chrome(options = options, executable_path = driver_path)\n",
    "#drvr.get(url[1])\n",
    "\n",
    "#num_page_container = drvr.find_elements_by_xpath(\"//*[@id='taplc_location_reviews_list_resp_rr_resp_0']/div/div[13]/div\")\n",
    "#num_page = int(drvr.find_element_by_xpath(\".//a[contains(@class, 'pageNum last')]\").get_attribute(\"data-page-number\"))\n",
    "#print(num_page)"
   ]
  },
  {
   "cell_type": "code",
   "execution_count": null,
   "metadata": {},
   "outputs": [],
   "source": [
    "for k in range(len(url)):\n",
    "    options = Options()\n",
    "    options.binary_location = '/usr/bin/brave-browser'\n",
    "    driver_path = '/usr/local/bin/chromedriver'\n",
    "    drvr = webdriver.Chrome(options = options, executable_path = driver_path)\n",
    "    drvr.get(url[k])\n",
    "    time.sleep(5)\n",
    "    num_page = int(drvr.find_element_by_xpath(\".//a[contains(@class, 'pageNum last')]\").get_attribute(\"data-page-number\"))\n",
    "    \n",
    "       \n",
    "    for i in range(0, num_page-1):\n",
    "    \n",
    "        try:\n",
    "            # expand the review \n",
    "            time.sleep(1)\n",
    "            #driver.find_element_by_xpath(\"//span[@class='taLnk ulBlueLinks']\").click()\n",
    "            WebDriverWait(drvr, 5).until(EC.element_to_be_clickable((By.XPATH, \"//span[@class='taLnk ulBlueLinks']\"))).click()\n",
    "        except:\n",
    "            pass\n",
    "      \n",
    "        container = drvr.find_elements_by_xpath(\".//div[@class='review-container']\")\n",
    "\n",
    "        for j in range(len(container)):\n",
    "\n",
    "            name = container[j].find_element_by_xpath(\"//*[@id='component_44']/div/div[1]/h1\").text\n",
    "            title = container[j].find_element_by_xpath(\".//span[@class='noQuotes']\").text\n",
    "            date = container[j].find_element_by_xpath(\".//span[contains(@class, 'ratingDate')]\").get_attribute(\"title\")\n",
    "            rating = container[j].find_element_by_xpath(\".//span[contains(@class, 'ui_bubble_rating bubble_')]\").get_attribute(\"class\").split(\"_\")[3]\n",
    "            review = container[j].find_element_by_xpath(\".//p[@class='partial_entry']\").text.replace(\"\\n\", \" \")\n",
    "            tipo = container[j].find_element_by_xpath(\"/html/body/div[3]/div[2]/div[2]/div[2]/div/div[2]/div/div[2]/div/div/div[2]/div[2]/div[2]\").text\n",
    "     \n",
    "            csvWriter.writerow([name,title,date, rating, review,tipo]) \n",
    "        # change the page\n",
    "        drvr.find_element_by_xpath('.//a[@class=\"nav next ui_button primary\"]').click()\n",
    "    \n",
    "    drvr.close()"
   ]
  }
 ],
 "metadata": {
  "kernelspec": {
   "display_name": "Python 3",
   "language": "python",
   "name": "python3"
  },
  "language_info": {
   "codemirror_mode": {
    "name": "ipython",
    "version": 3
   },
   "file_extension": ".py",
   "mimetype": "text/x-python",
   "name": "python",
   "nbconvert_exporter": "python",
   "pygments_lexer": "ipython3",
   "version": "3.8.5"
  }
 },
 "nbformat": 4,
 "nbformat_minor": 4
}
