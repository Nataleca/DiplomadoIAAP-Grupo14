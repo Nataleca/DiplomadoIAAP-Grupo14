{
 "cells": [
  {
   "cell_type": "code",
   "execution_count": 1,
   "metadata": {},
   "outputs": [],
   "source": [
    "import sys\n",
    "import csv\n",
    "from selenium import webdriver\n",
    "from selenium.webdriver.common.by import By\n",
    "from selenium.webdriver.support.ui import WebDriverWait\n",
    "from selenium.webdriver.support import expected_conditions as EC\n",
    "from selenium.webdriver.chrome.options import Options\n",
    "import time"
   ]
  },
  {
   "cell_type": "code",
   "execution_count": 2,
   "metadata": {},
   "outputs": [],
   "source": [
    "path_to_file = \"/home/agrandas/Diplomado AI Proyecto/Pruebas_Scrapper/urls_restaurantes.csv\""
   ]
  },
  {
   "cell_type": "code",
   "execution_count": 3,
   "metadata": {},
   "outputs": [],
   "source": [
    "url = [\"https://www.tripadvisor.co/Restaurants-g294074-Bogota.html\"]"
   ]
  },
  {
   "cell_type": "code",
   "execution_count": 4,
   "metadata": {},
   "outputs": [
    {
     "data": {
      "text/plain": [
       "12"
      ]
     },
     "execution_count": 4,
     "metadata": {},
     "output_type": "execute_result"
    }
   ],
   "source": [
    "csvFile = open(path_to_file, 'a', encoding=\"utf-8\")\n",
    "csvWriter = csv.writer(csvFile)\n",
    "csvWriter.writerow([\"Titulo\",\"url\"])"
   ]
  },
  {
   "cell_type": "code",
   "execution_count": 5,
   "metadata": {},
   "outputs": [],
   "source": [
    "for k in range(len(url)):\n",
    "    options = Options()\n",
    "    options.binary_location = '/usr/bin/brave-browser'\n",
    "    driver_path = '/usr/bin/chromedriver'\n",
    "    drvr = webdriver.Chrome(options = options, executable_path = driver_path)\n",
    "    drvr.get(url[k])\n",
    "    time.sleep(5)\n",
    "    num_page = int(drvr.find_element_by_xpath(\".//a[contains(@class, 'pageNum taLnk')]\").get_attribute(\"data-page-number\"))\n",
    "    \n",
    "       \n",
    "    for i in range(0, num_page-1):\n",
    "        if i <= 97:\n",
    "            time.sleep(1)\n",
    "            container = drvr.find_elements_by_xpath(\".//div[@class='_1llCuDZj']\")\n",
    "\n",
    "            for i in range(len(container)):\n",
    "                titulo = container[i].find_element_by_xpath(\".//a[contains(@class, '_15_ydu6b')]\").text\n",
    "                url = container[i].find_element_by_xpath(\".//a[contains(@class, '_15_ydu6b')]\").get_attribute(\"href\") \n",
    "            \n",
    "                csvWriter.writerow([titulo,url]) \n",
    "        # change the page\n",
    "            drvr.find_element_by_xpath('.//a[@class=\"nav next rndBtn ui_button primary taLnk\"]').click()\n",
    "    \n",
    "    drvr.close()"
   ]
  },
  {
   "cell_type": "code",
   "execution_count": null,
   "metadata": {},
   "outputs": [],
   "source": []
  }
 ],
 "metadata": {
  "kernelspec": {
   "display_name": "Python 3",
   "language": "python",
   "name": "python3"
  },
  "language_info": {
   "codemirror_mode": {
    "name": "ipython",
    "version": 3
   },
   "file_extension": ".py",
   "mimetype": "text/x-python",
   "name": "python",
   "nbconvert_exporter": "python",
   "pygments_lexer": "ipython3",
   "version": "3.8.5"
  }
 },
 "nbformat": 4,
 "nbformat_minor": 4
}
