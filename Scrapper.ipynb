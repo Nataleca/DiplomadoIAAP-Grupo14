{
 "cells": [
  {
   "cell_type": "code",
   "execution_count": 324,
   "metadata": {},
   "outputs": [],
   "source": [
    "import sys\n",
    "import csv\n",
    "from selenium import webdriver\n",
    "from selenium.webdriver.common.by import By\n",
    "from selenium.webdriver.support.ui import WebDriverWait\n",
    "from selenium.webdriver.support import expected_conditions as EC\n",
    "from selenium.webdriver.chrome.options import Options\n",
    "import time"
   ]
  },
  {
   "cell_type": "code",
   "execution_count": 325,
   "metadata": {},
   "outputs": [],
   "source": [
    "path_to_file = \"/home/natalia/Documentos/Jupyter Lab/Proyecto/reviewsandrescr.csv\""
   ]
  },
  {
   "cell_type": "code",
   "execution_count": 326,
   "metadata": {},
   "outputs": [],
   "source": [
    "num_page = 579"
   ]
  },
  {
   "cell_type": "code",
   "execution_count": 327,
   "metadata": {},
   "outputs": [],
   "source": [
    "url = \"https://www.tripadvisor.co/Restaurant_Review-g294074-d1889853-Reviews-Andres_Carne_de_Res-Bogota.html\"\n",
    "\n",
    "#if (len(sys.argv) == 4):\n",
    " #   path_to_file = sys.argv[1]\n",
    "  #  num_page = int(sys.argv[2])\n",
    "   # url = sys.argv[3]"
   ]
  },
  {
   "cell_type": "code",
   "execution_count": 331,
   "metadata": {},
   "outputs": [],
   "source": [
    "options = Options()\n",
    "options.binary_location = '/usr/bin/brave-browser'\n",
    "driver_path = '/usr/local/bin/chromedriver'\n",
    "drvr = webdriver.Chrome(options = options, executable_path = driver_path)\n",
    "drvr.get(url)\n",
    "drvr.maximize_window()"
   ]
  },
  {
   "cell_type": "code",
   "execution_count": 329,
   "metadata": {},
   "outputs": [
    {
     "data": {
      "text/plain": [
       "29"
      ]
     },
     "execution_count": 329,
     "metadata": {},
     "output_type": "execute_result"
    }
   ],
   "source": [
    "csvFile = open(path_to_file, 'a', encoding=\"utf-8\")\n",
    "csvWriter = csv.writer(csvFile)\n",
    "#csvWriter.writerow([\"Fecha\", \"Rating\", \"Titulo\", \"Reviews\",\"Tipo_Comida\",\"Puesto\",\"Rating_Comida\",\"Rating_Servicio\",\"Rating_Calidad_Precio\",\"Rating_Ambiente\"])\n",
    "csvWriter.writerow([\"Fecha\", \"Rating\", \"Titulo\", \"Reviews\"])"
   ]
  },
  {
   "cell_type": "code",
   "execution_count": null,
   "metadata": {},
   "outputs": [],
   "source": [
    "#time.sleep(2)\n",
    "#drvr.find_element_by_xpath('//*[@id=\"filters_detail_language:filterLang_es\"]').click()\n"
   ]
  },
  {
   "cell_type": "code",
   "execution_count": 330,
   "metadata": {},
   "outputs": [],
   "source": [
    "for i in range(0, num_page):\n",
    "    \n",
    "    try:\n",
    "        # expand the review \n",
    "        time.sleep(0.3)\n",
    "        #driver.find_element_by_xpath(\"//span[@class='taLnk ulBlueLinks']\").click()\n",
    "        WebDriverWait(drvr, 5).until(EC.element_to_be_clickable((By.XPATH, \"//span[@class='taLnk ulBlueLinks']\"))).click()\n",
    "    except:\n",
    "        pass\n",
    "      \n",
    "    container = drvr.find_elements_by_xpath(\".//div[@class='review-container']\")\n",
    "\n",
    "    for j in range(len(container)):\n",
    "\n",
    "        title = container[j].find_element_by_xpath(\".//span[@class='noQuotes']\").text\n",
    "        date = container[j].find_element_by_xpath(\".//span[contains(@class, 'ratingDate')]\").get_attribute(\"title\")\n",
    "        rating = container[j].find_element_by_xpath(\".//span[contains(@class, 'ui_bubble_rating bubble_')]\").get_attribute(\"class\").split(\"_\")[3]\n",
    "        review = container[j].find_element_by_xpath(\".//p[@class='partial_entry']\").text.replace(\"\\n\", \" \")\n",
    "     \n",
    "    #container2 = drvr.find_elements_by_xpath(\".//div[@class='react-container']\")\n",
    "    \n",
    "    #for j in range(len(container2)):\n",
    "        #tipo = container2[j].find_element_by_xpath(\"//*[@id='component_45']/div[1]/div/div[2]/div/div/div[2]/div[2]/div[2]\").text\n",
    "        #puesto=container2[j].find_element_by_xpath(\"//*[@id='component_44']/div/div[2]/span[2]/a/span\").text\n",
    "        #rating_comida = container2[j].find_element_by_xpath(\"//*[@id='component_45']/div[1]/div/div[1]/div/div[3]/div[2]/div[1]/span[3]/span\").get_attribute(\"class\").split(\"_\")[3]\n",
    "        #rating_servicio = container2[j].find_element_by_xpath(\"//*[@id='component_45']/div[1]/div/div[1]/div/div[3]/div[2]/div[2]/span[3]/span\").get_attribute(\"class\").split(\"_\")[3]\n",
    "        #rating_calidad_precio = container2[j].find_element_by_xpath(\"//*[@id='component_45']/div[1]/div/div[1]/div/div[3]/div[2]/div[3]/span[3]/span\").get_attribute(\"class\").split(\"_\")[3]\n",
    "        #rating_ambiente = container2[j].find_element_by_xpath(\"//*[@id='component_45']/div[1]/div/div[1]/div/div[3]/div[2]/div[4]/span[3]/span\").get_attribute(\"class\").split(\"_\")[3]\n",
    "        \n",
    "        #csvWriter.writerow([date, rating, title, review,tipo,puesto,rating_comida,rating_servicio,rating_calidad_precio,rating_ambiente]) \n",
    "        csvWriter.writerow([date, rating, title, review]) \n",
    "    # change the page\n",
    "    drvr.find_element_by_xpath('.//a[@class=\"nav next ui_button primary\"]').click()\n",
    "    \n",
    "drvr.close()"
   ]
  }
 ],
 "metadata": {
  "kernelspec": {
   "display_name": "Python 3",
   "language": "python",
   "name": "python3"
  },
  "language_info": {
   "codemirror_mode": {
    "name": "ipython",
    "version": 3
   },
   "file_extension": ".py",
   "mimetype": "text/x-python",
   "name": "python",
   "nbconvert_exporter": "python",
   "pygments_lexer": "ipython3",
   "version": "3.8.5"
  }
 },
 "nbformat": 4,
 "nbformat_minor": 4
}
