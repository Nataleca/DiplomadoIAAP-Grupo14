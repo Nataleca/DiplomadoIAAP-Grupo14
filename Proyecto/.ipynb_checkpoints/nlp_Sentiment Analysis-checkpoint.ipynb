{
 "cells": [
  {
   "cell_type": "markdown",
   "metadata": {
    "id": "6vjr9iJyUQtH"
   },
   "source": [
    "## Reto Restaurantes Colombianos\n"
   ]
  },
  {
   "cell_type": "code",
   "execution_count": 25,
   "metadata": {
    "colab": {
     "base_uri": "https://localhost:8080/",
     "height": 35
    },
    "executionInfo": {
     "elapsed": 1746,
     "status": "ok",
     "timestamp": 1620518905280,
     "user": {
      "displayName": "Andres Felipe Nieto Grandas",
      "photoUrl": "https://lh3.googleusercontent.com/a-/AOh14GiVwnHrOcAcuO7hAAvGfu388UdN50UtNnedLL27=s64",
      "userId": "12110662847858295180"
     },
     "user_tz": 300
    },
    "id": "Qs3BLAJfUQtH",
    "outputId": "1ea20c0f-b01c-420a-ad4a-09889f171bea"
   },
   "outputs": [
    {
     "data": {
      "text/plain": [
       "'2.4.1'"
      ]
     },
     "execution_count": 25,
     "metadata": {},
     "output_type": "execute_result"
    }
   ],
   "source": [
    "import tensorflow as tf\n",
    "from tensorflow.keras.preprocessing.text import Tokenizer\n",
    "import pandas as pd\n",
    "\n",
    "tf.__version__"
   ]
  },
  {
   "cell_type": "markdown",
   "metadata": {
    "id": "A__t-6QjUQtJ"
   },
   "source": [
    "### Los datos"
   ]
  },
  {
   "cell_type": "markdown",
   "metadata": {
    "id": "PuKDukHMUQtJ"
   },
   "source": [
    "[kaggle: twitter-airline-sentiment](https://www.kaggle.com/crowdflower/twitter-airline-sentiment?select=Tweets.csv)"
   ]
  },
  {
   "cell_type": "code",
   "execution_count": 7,
   "metadata": {
    "colab": {
     "base_uri": "https://localhost:8080/"
    },
    "executionInfo": {
     "elapsed": 17040,
     "status": "ok",
     "timestamp": 1620518890079,
     "user": {
      "displayName": "Andres Felipe Nieto Grandas",
      "photoUrl": "https://lh3.googleusercontent.com/a-/AOh14GiVwnHrOcAcuO7hAAvGfu388UdN50UtNnedLL27=s64",
      "userId": "12110662847858295180"
     },
     "user_tz": 300
    },
    "id": "-T-h-ZbqUQtJ",
    "outputId": "162864f4-0a97-4856-941d-128ae8e818f0"
   },
   "outputs": [
    {
     "name": "stdout",
     "output_type": "stream",
     "text": [
      "Mounted at /content/gdrive\n"
     ]
    }
   ],
   "source": [
    "#from google.colab import drive\n",
    "#drive.mount('/content/gdrive', force_remount=True)\n",
    "\n",
    "#ruta = 'gdrive/My Drive/Colab Notebooks/Sentimientos'\n"
   ]
  },
  {
   "cell_type": "code",
   "execution_count": 26,
   "metadata": {
    "colab": {
     "base_uri": "https://localhost:8080/",
     "height": 306
    },
    "executionInfo": {
     "elapsed": 1708,
     "status": "ok",
     "timestamp": 1620518965078,
     "user": {
      "displayName": "Andres Felipe Nieto Grandas",
      "photoUrl": "https://lh3.googleusercontent.com/a-/AOh14GiVwnHrOcAcuO7hAAvGfu388UdN50UtNnedLL27=s64",
      "userId": "12110662847858295180"
     },
     "user_tz": 300
    },
    "id": "eii1kWtXU7ig",
    "outputId": "8a33be0d-5e99-4373-a166-12472f9d4cd5"
   },
   "outputs": [
    {
     "data": {
      "text/html": [
       "<div>\n",
       "<style scoped>\n",
       "    .dataframe tbody tr th:only-of-type {\n",
       "        vertical-align: middle;\n",
       "    }\n",
       "\n",
       "    .dataframe tbody tr th {\n",
       "        vertical-align: top;\n",
       "    }\n",
       "\n",
       "    .dataframe thead th {\n",
       "        text-align: right;\n",
       "    }\n",
       "</style>\n",
       "<table border=\"1\" class=\"dataframe\">\n",
       "  <thead>\n",
       "    <tr style=\"text-align: right;\">\n",
       "      <th></th>\n",
       "      <th>Unnamed: 0</th>\n",
       "      <th>Unnamed: 0.1</th>\n",
       "      <th>Nombre</th>\n",
       "      <th>Título</th>\n",
       "      <th>Fecha</th>\n",
       "      <th>Rating</th>\n",
       "      <th>Reviews</th>\n",
       "      <th>Tipo</th>\n",
       "      <th>reviews_limpios</th>\n",
       "    </tr>\n",
       "  </thead>\n",
       "  <tbody>\n",
       "    <tr>\n",
       "      <th>0</th>\n",
       "      <td>0</td>\n",
       "      <td>0</td>\n",
       "      <td>Casa Vieja Restaurante</td>\n",
       "      <td>Comida Tiquita en un ambiente muy colombiano</td>\n",
       "      <td>15 de octubre de 2019</td>\n",
       "      <td>50</td>\n",
       "      <td>Tuve la experiencia de ir almozar a este típic...</td>\n",
       "      <td>Colombiana, Sudamericana</td>\n",
       "      <td>experiencia almozar típico restaurante colombi...</td>\n",
       "    </tr>\n",
       "    <tr>\n",
       "      <th>1</th>\n",
       "      <td>1</td>\n",
       "      <td>1</td>\n",
       "      <td>Casa Vieja Restaurante</td>\n",
       "      <td>Me gustó!!</td>\n",
       "      <td>22 de octubre de 2018</td>\n",
       "      <td>40</td>\n",
       "      <td>El restaurante es agradable, antiguo y familia...</td>\n",
       "      <td>Colombiana, Sudamericana</td>\n",
       "      <td>restaurante agradable antiguo familiar persona...</td>\n",
       "    </tr>\n",
       "    <tr>\n",
       "      <th>2</th>\n",
       "      <td>2</td>\n",
       "      <td>2</td>\n",
       "      <td>Casa Vieja Restaurante</td>\n",
       "      <td>Restaurante tradicional frente al Hotel Tequen...</td>\n",
       "      <td>18 de septiembre de 2018</td>\n",
       "      <td>40</td>\n",
       "      <td>Llegamos tarde como a las 17 horas, ya no habí...</td>\n",
       "      <td>Colombiana, Sudamericana</td>\n",
       "      <td>llegamos tarde horas público atendieron bien c...</td>\n",
       "    </tr>\n",
       "    <tr>\n",
       "      <th>3</th>\n",
       "      <td>3</td>\n",
       "      <td>3</td>\n",
       "      <td>Casa Vieja Restaurante</td>\n",
       "      <td>QUE GRATO VOLVER</td>\n",
       "      <td>4 de agosto de 2016</td>\n",
       "      <td>50</td>\n",
       "      <td>Hace años no disfrutaba de un almuerzo en este...</td>\n",
       "      <td>Colombiana, Sudamericana</td>\n",
       "      <td>hace años disfrutaba almuerzo agradable restau...</td>\n",
       "    </tr>\n",
       "    <tr>\n",
       "      <th>4</th>\n",
       "      <td>4</td>\n",
       "      <td>4</td>\n",
       "      <td>Casa Vieja Restaurante</td>\n",
       "      <td>Un clásico que no defrauda</td>\n",
       "      <td>1 de agosto de 2016</td>\n",
       "      <td>40</td>\n",
       "      <td>Lugar típico de cocina colombiana que uno no p...</td>\n",
       "      <td>Colombiana, Sudamericana</td>\n",
       "      <td>lugar típico cocina colombiana puede dejar vis...</td>\n",
       "    </tr>\n",
       "  </tbody>\n",
       "</table>\n",
       "</div>"
      ],
      "text/plain": [
       "   Unnamed: 0  Unnamed: 0.1                  Nombre  \\\n",
       "0           0             0  Casa Vieja Restaurante   \n",
       "1           1             1  Casa Vieja Restaurante   \n",
       "2           2             2  Casa Vieja Restaurante   \n",
       "3           3             3  Casa Vieja Restaurante   \n",
       "4           4             4  Casa Vieja Restaurante   \n",
       "\n",
       "                                              Título  \\\n",
       "0       Comida Tiquita en un ambiente muy colombiano   \n",
       "1                                         Me gustó!!   \n",
       "2  Restaurante tradicional frente al Hotel Tequen...   \n",
       "3                                   QUE GRATO VOLVER   \n",
       "4                         Un clásico que no defrauda   \n",
       "\n",
       "                      Fecha  Rating  \\\n",
       "0     15 de octubre de 2019      50   \n",
       "1     22 de octubre de 2018      40   \n",
       "2  18 de septiembre de 2018      40   \n",
       "3       4 de agosto de 2016      50   \n",
       "4       1 de agosto de 2016      40   \n",
       "\n",
       "                                             Reviews  \\\n",
       "0  Tuve la experiencia de ir almozar a este típic...   \n",
       "1  El restaurante es agradable, antiguo y familia...   \n",
       "2  Llegamos tarde como a las 17 horas, ya no habí...   \n",
       "3  Hace años no disfrutaba de un almuerzo en este...   \n",
       "4  Lugar típico de cocina colombiana que uno no p...   \n",
       "\n",
       "                       Tipo                                    reviews_limpios  \n",
       "0  Colombiana, Sudamericana  experiencia almozar típico restaurante colombi...  \n",
       "1  Colombiana, Sudamericana  restaurante agradable antiguo familiar persona...  \n",
       "2  Colombiana, Sudamericana  llegamos tarde horas público atendieron bien c...  \n",
       "3  Colombiana, Sudamericana  hace años disfrutaba almuerzo agradable restau...  \n",
       "4  Colombiana, Sudamericana  lugar típico cocina colombiana puede dejar vis...  "
      ]
     },
     "execution_count": 26,
     "metadata": {},
     "output_type": "execute_result"
    }
   ],
   "source": [
    "#df= pd.read_csv(ruta + '/restaurant_reviews_clean.csv')\n",
    "df= pd.read_csv('restaurant_reviews_clean.csv')\n",
    "df.head()"
   ]
  },
  {
   "cell_type": "code",
   "execution_count": 28,
   "metadata": {
    "colab": {
     "base_uri": "https://localhost:8080/",
     "height": 289
    },
    "executionInfo": {
     "elapsed": 380,
     "status": "ok",
     "timestamp": 1620522507791,
     "user": {
      "displayName": "Andres Felipe Nieto Grandas",
      "photoUrl": "https://lh3.googleusercontent.com/a-/AOh14GiVwnHrOcAcuO7hAAvGfu388UdN50UtNnedLL27=s64",
      "userId": "12110662847858295180"
     },
     "user_tz": 300
    },
    "id": "1dOQZtmUUQtJ",
    "outputId": "5892024d-2c0d-4bee-e10e-b25aa3b0a5b2"
   },
   "outputs": [],
   "source": [
    "df.drop('Unnamed: 0', axis=1, inplace=True)\n"
   ]
  },
  {
   "cell_type": "code",
   "execution_count": 16,
   "metadata": {
    "executionInfo": {
     "elapsed": 374,
     "status": "ok",
     "timestamp": 1620518994915,
     "user": {
      "displayName": "Andres Felipe Nieto Grandas",
      "photoUrl": "https://lh3.googleusercontent.com/a-/AOh14GiVwnHrOcAcuO7hAAvGfu388UdN50UtNnedLL27=s64",
      "userId": "12110662847858295180"
     },
     "user_tz": 300
    },
    "id": "Kx0HODyLWDU-"
   },
   "outputs": [],
   "source": [
    "#!pip install google_trans_new\n",
    "#from googletrans import Translator\n",
    "#from google_trans_new import google_translator  "
   ]
  },
  {
   "cell_type": "code",
   "execution_count": 17,
   "metadata": {
    "executionInfo": {
     "elapsed": 387,
     "status": "ok",
     "timestamp": 1620518999934,
     "user": {
      "displayName": "Andres Felipe Nieto Grandas",
      "photoUrl": "https://lh3.googleusercontent.com/a-/AOh14GiVwnHrOcAcuO7hAAvGfu388UdN50UtNnedLL27=s64",
      "userId": "12110662847858295180"
     },
     "user_tz": 300
    },
    "id": "BclqLfKMXJ5Z"
   },
   "outputs": [],
   "source": [
    "#translator = google_translator() \n",
    "#df['reviews_limpios'] = df['reviews_limpios'].astype(str)\n",
    "#df1 = df['reviews_limpios'][:1000]\n",
    "#df_reviews['reviews_traducidas'] = df1.apply(translator.translate,  dest='en').apply(getattr, args=('text',))\n"
   ]
  },
  {
   "cell_type": "code",
   "execution_count": 67,
   "metadata": {
    "executionInfo": {
     "elapsed": 386,
     "status": "ok",
     "timestamp": 1620522260601,
     "user": {
      "displayName": "Andres Felipe Nieto Grandas",
      "photoUrl": "https://lh3.googleusercontent.com/a-/AOh14GiVwnHrOcAcuO7hAAvGfu388UdN50UtNnedLL27=s64",
      "userId": "12110662847858295180"
     },
     "user_tz": 300
    },
    "id": "ybfcAAGgXM3t"
   },
   "outputs": [],
   "source": [
    "#for j in range(len(df['reviews_limpios'][:20])):\n",
    " #   df['reviews_traducidas'][j] = translator.translate(df['reviews_limpios'][j], lang_src='es', lang_tgt='en')"
   ]
  },
  {
   "cell_type": "code",
   "execution_count": 29,
   "metadata": {
    "colab": {
     "base_uri": "https://localhost:8080/",
     "height": 589
    },
    "executionInfo": {
     "elapsed": 404,
     "status": "ok",
     "timestamp": 1620520983989,
     "user": {
      "displayName": "Andres Felipe Nieto Grandas",
      "photoUrl": "https://lh3.googleusercontent.com/a-/AOh14GiVwnHrOcAcuO7hAAvGfu388UdN50UtNnedLL27=s64",
      "userId": "12110662847858295180"
     },
     "user_tz": 300
    },
    "id": "3cwzGCWNazF5",
    "outputId": "85eed26a-5f27-466f-c3c4-d7c4a4283ed1"
   },
   "outputs": [
    {
     "data": {
      "text/html": [
       "<div>\n",
       "<style scoped>\n",
       "    .dataframe tbody tr th:only-of-type {\n",
       "        vertical-align: middle;\n",
       "    }\n",
       "\n",
       "    .dataframe tbody tr th {\n",
       "        vertical-align: top;\n",
       "    }\n",
       "\n",
       "    .dataframe thead th {\n",
       "        text-align: right;\n",
       "    }\n",
       "</style>\n",
       "<table border=\"1\" class=\"dataframe\">\n",
       "  <thead>\n",
       "    <tr style=\"text-align: right;\">\n",
       "      <th></th>\n",
       "      <th>Nombre</th>\n",
       "      <th>Título</th>\n",
       "      <th>Fecha</th>\n",
       "      <th>Rating</th>\n",
       "      <th>Reviews</th>\n",
       "      <th>Tipo</th>\n",
       "      <th>reviews_limpios</th>\n",
       "    </tr>\n",
       "  </thead>\n",
       "  <tbody>\n",
       "    <tr>\n",
       "      <th>0</th>\n",
       "      <td>Casa Vieja Restaurante</td>\n",
       "      <td>Comida Tiquita en un ambiente muy colombiano</td>\n",
       "      <td>15 de octubre de 2019</td>\n",
       "      <td>50</td>\n",
       "      <td>Tuve la experiencia de ir almozar a este típic...</td>\n",
       "      <td>Colombiana, Sudamericana</td>\n",
       "      <td>experiencia almozar típico restaurante colombi...</td>\n",
       "    </tr>\n",
       "    <tr>\n",
       "      <th>1</th>\n",
       "      <td>Casa Vieja Restaurante</td>\n",
       "      <td>Me gustó!!</td>\n",
       "      <td>22 de octubre de 2018</td>\n",
       "      <td>40</td>\n",
       "      <td>El restaurante es agradable, antiguo y familia...</td>\n",
       "      <td>Colombiana, Sudamericana</td>\n",
       "      <td>restaurante agradable antiguo familiar persona...</td>\n",
       "    </tr>\n",
       "    <tr>\n",
       "      <th>2</th>\n",
       "      <td>Casa Vieja Restaurante</td>\n",
       "      <td>Restaurante tradicional frente al Hotel Tequen...</td>\n",
       "      <td>18 de septiembre de 2018</td>\n",
       "      <td>40</td>\n",
       "      <td>Llegamos tarde como a las 17 horas, ya no habí...</td>\n",
       "      <td>Colombiana, Sudamericana</td>\n",
       "      <td>llegamos tarde horas público atendieron bien c...</td>\n",
       "    </tr>\n",
       "    <tr>\n",
       "      <th>3</th>\n",
       "      <td>Casa Vieja Restaurante</td>\n",
       "      <td>QUE GRATO VOLVER</td>\n",
       "      <td>4 de agosto de 2016</td>\n",
       "      <td>50</td>\n",
       "      <td>Hace años no disfrutaba de un almuerzo en este...</td>\n",
       "      <td>Colombiana, Sudamericana</td>\n",
       "      <td>hace años disfrutaba almuerzo agradable restau...</td>\n",
       "    </tr>\n",
       "    <tr>\n",
       "      <th>4</th>\n",
       "      <td>Casa Vieja Restaurante</td>\n",
       "      <td>Un clásico que no defrauda</td>\n",
       "      <td>1 de agosto de 2016</td>\n",
       "      <td>40</td>\n",
       "      <td>Lugar típico de cocina colombiana que uno no p...</td>\n",
       "      <td>Colombiana, Sudamericana</td>\n",
       "      <td>lugar típico cocina colombiana puede dejar vis...</td>\n",
       "    </tr>\n",
       "    <tr>\n",
       "      <th>...</th>\n",
       "      <td>...</td>\n",
       "      <td>...</td>\n",
       "      <td>...</td>\n",
       "      <td>...</td>\n",
       "      <td>...</td>\n",
       "      <td>...</td>\n",
       "      <td>...</td>\n",
       "    </tr>\n",
       "    <tr>\n",
       "      <th>1695</th>\n",
       "      <td>Karen's Pizza</td>\n",
       "      <td>buena experiencia, pero mejores restaurantes e...</td>\n",
       "      <td>26 de agosto de 2014</td>\n",
       "      <td>30</td>\n",
       "      <td>Comí aquí con un amigo mío y yo apreciamos los...</td>\n",
       "      <td>Italiana, Pizzería</td>\n",
       "      <td>comí aquí amigo apreciamos sabores únicos pizz...</td>\n",
       "    </tr>\n",
       "    <tr>\n",
       "      <th>1696</th>\n",
       "      <td>Karen's Pizza</td>\n",
       "      <td>Muy buena pizza, pero ...</td>\n",
       "      <td>22 de julio de 2014</td>\n",
       "      <td>40</td>\n",
       "      <td>A sólo 2 minutos a pie del hotel, encontramos ...</td>\n",
       "      <td>Italiana, Pizzería</td>\n",
       "      <td>sólo minutos hotel encontramos pizza bueno cara</td>\n",
       "    </tr>\n",
       "    <tr>\n",
       "      <th>1697</th>\n",
       "      <td>Karen's Pizza</td>\n",
       "      <td>Es como una broma</td>\n",
       "      <td>14 de julio de 2014</td>\n",
       "      <td>10</td>\n",
       "      <td>Todo lo que podía salir mal salió mal aquí. Lo...</td>\n",
       "      <td>Italiana, Pizzería</td>\n",
       "      <td>podía salir salió aquí años incapaces manejar ...</td>\n",
       "    </tr>\n",
       "    <tr>\n",
       "      <th>1698</th>\n",
       "      <td>Karen's Pizza</td>\n",
       "      <td>aclamadísimo musical mal servicio y comida</td>\n",
       "      <td>13 de julio de 2014</td>\n",
       "      <td>10</td>\n",
       "      <td>Hay unos 35 polo completamente idea'ed adolesc...</td>\n",
       "      <td>Italiana, Pizzería</td>\n",
       "      <td>polo completamente idea'ed adolescentes corrie...</td>\n",
       "    </tr>\n",
       "    <tr>\n",
       "      <th>1699</th>\n",
       "      <td>Karen's Pizza</td>\n",
       "      <td>Demasiado caro</td>\n",
       "      <td>11 de mayo de 2014</td>\n",
       "      <td>20</td>\n",
       "      <td>La pizza solicitada picante no picante y la re...</td>\n",
       "      <td>Italiana, Pizzería</td>\n",
       "      <td>pizza solicitada picante picante recomendada t...</td>\n",
       "    </tr>\n",
       "  </tbody>\n",
       "</table>\n",
       "<p>1700 rows × 7 columns</p>\n",
       "</div>"
      ],
      "text/plain": [
       "                      Nombre  \\\n",
       "0     Casa Vieja Restaurante   \n",
       "1     Casa Vieja Restaurante   \n",
       "2     Casa Vieja Restaurante   \n",
       "3     Casa Vieja Restaurante   \n",
       "4     Casa Vieja Restaurante   \n",
       "...                      ...   \n",
       "1695           Karen's Pizza   \n",
       "1696           Karen's Pizza   \n",
       "1697           Karen's Pizza   \n",
       "1698           Karen's Pizza   \n",
       "1699           Karen's Pizza   \n",
       "\n",
       "                                                 Título  \\\n",
       "0          Comida Tiquita en un ambiente muy colombiano   \n",
       "1                                            Me gustó!!   \n",
       "2     Restaurante tradicional frente al Hotel Tequen...   \n",
       "3                                      QUE GRATO VOLVER   \n",
       "4                            Un clásico que no defrauda   \n",
       "...                                                 ...   \n",
       "1695  buena experiencia, pero mejores restaurantes e...   \n",
       "1696                          Muy buena pizza, pero ...   \n",
       "1697                                  Es como una broma   \n",
       "1698         aclamadísimo musical mal servicio y comida   \n",
       "1699                                     Demasiado caro   \n",
       "\n",
       "                         Fecha  Rating  \\\n",
       "0        15 de octubre de 2019      50   \n",
       "1        22 de octubre de 2018      40   \n",
       "2     18 de septiembre de 2018      40   \n",
       "3          4 de agosto de 2016      50   \n",
       "4          1 de agosto de 2016      40   \n",
       "...                        ...     ...   \n",
       "1695      26 de agosto de 2014      30   \n",
       "1696       22 de julio de 2014      40   \n",
       "1697       14 de julio de 2014      10   \n",
       "1698       13 de julio de 2014      10   \n",
       "1699        11 de mayo de 2014      20   \n",
       "\n",
       "                                                Reviews  \\\n",
       "0     Tuve la experiencia de ir almozar a este típic...   \n",
       "1     El restaurante es agradable, antiguo y familia...   \n",
       "2     Llegamos tarde como a las 17 horas, ya no habí...   \n",
       "3     Hace años no disfrutaba de un almuerzo en este...   \n",
       "4     Lugar típico de cocina colombiana que uno no p...   \n",
       "...                                                 ...   \n",
       "1695  Comí aquí con un amigo mío y yo apreciamos los...   \n",
       "1696  A sólo 2 minutos a pie del hotel, encontramos ...   \n",
       "1697  Todo lo que podía salir mal salió mal aquí. Lo...   \n",
       "1698  Hay unos 35 polo completamente idea'ed adolesc...   \n",
       "1699  La pizza solicitada picante no picante y la re...   \n",
       "\n",
       "                          Tipo  \\\n",
       "0     Colombiana, Sudamericana   \n",
       "1     Colombiana, Sudamericana   \n",
       "2     Colombiana, Sudamericana   \n",
       "3     Colombiana, Sudamericana   \n",
       "4     Colombiana, Sudamericana   \n",
       "...                        ...   \n",
       "1695        Italiana, Pizzería   \n",
       "1696        Italiana, Pizzería   \n",
       "1697        Italiana, Pizzería   \n",
       "1698        Italiana, Pizzería   \n",
       "1699        Italiana, Pizzería   \n",
       "\n",
       "                                        reviews_limpios  \n",
       "0     experiencia almozar típico restaurante colombi...  \n",
       "1     restaurante agradable antiguo familiar persona...  \n",
       "2     llegamos tarde horas público atendieron bien c...  \n",
       "3     hace años disfrutaba almuerzo agradable restau...  \n",
       "4     lugar típico cocina colombiana puede dejar vis...  \n",
       "...                                                 ...  \n",
       "1695  comí aquí amigo apreciamos sabores únicos pizz...  \n",
       "1696    sólo minutos hotel encontramos pizza bueno cara  \n",
       "1697  podía salir salió aquí años incapaces manejar ...  \n",
       "1698  polo completamente idea'ed adolescentes corrie...  \n",
       "1699  pizza solicitada picante picante recomendada t...  \n",
       "\n",
       "[1700 rows x 7 columns]"
      ]
     },
     "execution_count": 29,
     "metadata": {},
     "output_type": "execute_result"
    }
   ],
   "source": [
    "df.head(1700)"
   ]
  },
  {
   "cell_type": "code",
   "execution_count": 32,
   "metadata": {
    "colab": {
     "base_uri": "https://localhost:8080/"
    },
    "executionInfo": {
     "elapsed": 383,
     "status": "ok",
     "timestamp": 1620522868502,
     "user": {
      "displayName": "Andres Felipe Nieto Grandas",
      "photoUrl": "https://lh3.googleusercontent.com/a-/AOh14GiVwnHrOcAcuO7hAAvGfu388UdN50UtNnedLL27=s64",
      "userId": "12110662847858295180"
     },
     "user_tz": 300
    },
    "id": "zLtvDuXwp2zC",
    "outputId": "707200bc-c2a5-4a08-ed84-24fdab963fb0"
   },
   "outputs": [],
   "source": [
    "def polarity_to_label(x):\n",
    "    if(x <= 20):\n",
    "        return 'negative'\n",
    "    if(x == 30):\n",
    "        return 'neutral'\n",
    "    if(x >= 40):\n",
    "        return 'positive'\n",
    "df['etiquetas'] = df.Rating.apply(polarity_to_label)"
   ]
  },
  {
   "cell_type": "markdown",
   "metadata": {
    "id": "r6wCK9XBUQtJ"
   },
   "source": [
    "### Análisis descriptivos"
   ]
  },
  {
   "cell_type": "code",
   "execution_count": 33,
   "metadata": {
    "colab": {
     "base_uri": "https://localhost:8080/",
     "height": 529
    },
    "executionInfo": {
     "elapsed": 428,
     "status": "ok",
     "timestamp": 1620522899308,
     "user": {
      "displayName": "Andres Felipe Nieto Grandas",
      "photoUrl": "https://lh3.googleusercontent.com/a-/AOh14GiVwnHrOcAcuO7hAAvGfu388UdN50UtNnedLL27=s64",
      "userId": "12110662847858295180"
     },
     "user_tz": 300
    },
    "id": "mtRFUChLrc9Y",
    "outputId": "c8d2db27-f741-4110-dff5-92b2e5e04fd3"
   },
   "outputs": [
    {
     "data": {
      "text/html": [
       "<div>\n",
       "<style scoped>\n",
       "    .dataframe tbody tr th:only-of-type {\n",
       "        vertical-align: middle;\n",
       "    }\n",
       "\n",
       "    .dataframe tbody tr th {\n",
       "        vertical-align: top;\n",
       "    }\n",
       "\n",
       "    .dataframe thead th {\n",
       "        text-align: right;\n",
       "    }\n",
       "</style>\n",
       "<table border=\"1\" class=\"dataframe\">\n",
       "  <thead>\n",
       "    <tr style=\"text-align: right;\">\n",
       "      <th></th>\n",
       "      <th>Nombre</th>\n",
       "      <th>Título</th>\n",
       "      <th>Fecha</th>\n",
       "      <th>Rating</th>\n",
       "      <th>Reviews</th>\n",
       "      <th>Tipo</th>\n",
       "      <th>reviews_limpios</th>\n",
       "      <th>etiquetas</th>\n",
       "    </tr>\n",
       "  </thead>\n",
       "  <tbody>\n",
       "    <tr>\n",
       "      <th>0</th>\n",
       "      <td>Casa Vieja Restaurante</td>\n",
       "      <td>Comida Tiquita en un ambiente muy colombiano</td>\n",
       "      <td>15 de octubre de 2019</td>\n",
       "      <td>50</td>\n",
       "      <td>Tuve la experiencia de ir almozar a este típic...</td>\n",
       "      <td>Colombiana, Sudamericana</td>\n",
       "      <td>experiencia almozar típico restaurante colombi...</td>\n",
       "      <td>positive</td>\n",
       "    </tr>\n",
       "    <tr>\n",
       "      <th>1</th>\n",
       "      <td>Casa Vieja Restaurante</td>\n",
       "      <td>Me gustó!!</td>\n",
       "      <td>22 de octubre de 2018</td>\n",
       "      <td>40</td>\n",
       "      <td>El restaurante es agradable, antiguo y familia...</td>\n",
       "      <td>Colombiana, Sudamericana</td>\n",
       "      <td>restaurante agradable antiguo familiar persona...</td>\n",
       "      <td>positive</td>\n",
       "    </tr>\n",
       "    <tr>\n",
       "      <th>2</th>\n",
       "      <td>Casa Vieja Restaurante</td>\n",
       "      <td>Restaurante tradicional frente al Hotel Tequen...</td>\n",
       "      <td>18 de septiembre de 2018</td>\n",
       "      <td>40</td>\n",
       "      <td>Llegamos tarde como a las 17 horas, ya no habí...</td>\n",
       "      <td>Colombiana, Sudamericana</td>\n",
       "      <td>llegamos tarde horas público atendieron bien c...</td>\n",
       "      <td>positive</td>\n",
       "    </tr>\n",
       "    <tr>\n",
       "      <th>3</th>\n",
       "      <td>Casa Vieja Restaurante</td>\n",
       "      <td>QUE GRATO VOLVER</td>\n",
       "      <td>4 de agosto de 2016</td>\n",
       "      <td>50</td>\n",
       "      <td>Hace años no disfrutaba de un almuerzo en este...</td>\n",
       "      <td>Colombiana, Sudamericana</td>\n",
       "      <td>hace años disfrutaba almuerzo agradable restau...</td>\n",
       "      <td>positive</td>\n",
       "    </tr>\n",
       "    <tr>\n",
       "      <th>4</th>\n",
       "      <td>Casa Vieja Restaurante</td>\n",
       "      <td>Un clásico que no defrauda</td>\n",
       "      <td>1 de agosto de 2016</td>\n",
       "      <td>40</td>\n",
       "      <td>Lugar típico de cocina colombiana que uno no p...</td>\n",
       "      <td>Colombiana, Sudamericana</td>\n",
       "      <td>lugar típico cocina colombiana puede dejar vis...</td>\n",
       "      <td>positive</td>\n",
       "    </tr>\n",
       "    <tr>\n",
       "      <th>5</th>\n",
       "      <td>Casa Vieja Restaurante</td>\n",
       "      <td>Luego de 40 años mejor aún!</td>\n",
       "      <td>12 de marzo de 2016</td>\n",
       "      <td>50</td>\n",
       "      <td>Luego de visitarlo hace 40 años, me consigo un...</td>\n",
       "      <td>Colombiana, Sudamericana</td>\n",
       "      <td>luego visitarlo hace años consigo restaurante ...</td>\n",
       "      <td>positive</td>\n",
       "    </tr>\n",
       "    <tr>\n",
       "      <th>6</th>\n",
       "      <td>Casa Vieja Restaurante</td>\n",
       "      <td>Comida típica Colombiana</td>\n",
       "      <td>25 de febrero de 2016</td>\n",
       "      <td>40</td>\n",
       "      <td>El entorno es muy agradable, desde la decoraci...</td>\n",
       "      <td>Colombiana, Sudamericana</td>\n",
       "      <td>entorno agradable decoración música servicio p...</td>\n",
       "      <td>positive</td>\n",
       "    </tr>\n",
       "    <tr>\n",
       "      <th>7</th>\n",
       "      <td>Casa Vieja Restaurante</td>\n",
       "      <td>Recomendable 100% en Bogotá.</td>\n",
       "      <td>16 de septiembre de 2015</td>\n",
       "      <td>50</td>\n",
       "      <td>Exquisita calidad en los platos típicos colomb...</td>\n",
       "      <td>Colombiana, Sudamericana</td>\n",
       "      <td>exquisita calidad platos típicos colombianos z...</td>\n",
       "      <td>positive</td>\n",
       "    </tr>\n",
       "    <tr>\n",
       "      <th>8</th>\n",
       "      <td>Casa Vieja Restaurante</td>\n",
       "      <td>Muy buen Puchero y platos tipicos!!!</td>\n",
       "      <td>11 de septiembre de 2015</td>\n",
       "      <td>40</td>\n",
       "      <td>Regrese después de muchos años y de malas expe...</td>\n",
       "      <td>Colombiana, Sudamericana</td>\n",
       "      <td>regrese después años malas experiencias ahora ...</td>\n",
       "      <td>positive</td>\n",
       "    </tr>\n",
       "    <tr>\n",
       "      <th>9</th>\n",
       "      <td>Casa Vieja Restaurante</td>\n",
       "      <td>Critica de un mexicano</td>\n",
       "      <td>19 de agosto de 2015</td>\n",
       "      <td>40</td>\n",
       "      <td>Estuve con unos amigos y esposa disfrutando es...</td>\n",
       "      <td>Colombiana, Sudamericana</td>\n",
       "      <td>amigos esposa disfrutando lugar coincido denom...</td>\n",
       "      <td>positive</td>\n",
       "    </tr>\n",
       "  </tbody>\n",
       "</table>\n",
       "</div>"
      ],
      "text/plain": [
       "                   Nombre                                             Título  \\\n",
       "0  Casa Vieja Restaurante       Comida Tiquita en un ambiente muy colombiano   \n",
       "1  Casa Vieja Restaurante                                         Me gustó!!   \n",
       "2  Casa Vieja Restaurante  Restaurante tradicional frente al Hotel Tequen...   \n",
       "3  Casa Vieja Restaurante                                   QUE GRATO VOLVER   \n",
       "4  Casa Vieja Restaurante                         Un clásico que no defrauda   \n",
       "5  Casa Vieja Restaurante                        Luego de 40 años mejor aún!   \n",
       "6  Casa Vieja Restaurante                           Comida típica Colombiana   \n",
       "7  Casa Vieja Restaurante                       Recomendable 100% en Bogotá.   \n",
       "8  Casa Vieja Restaurante               Muy buen Puchero y platos tipicos!!!   \n",
       "9  Casa Vieja Restaurante                             Critica de un mexicano   \n",
       "\n",
       "                      Fecha  Rating  \\\n",
       "0     15 de octubre de 2019      50   \n",
       "1     22 de octubre de 2018      40   \n",
       "2  18 de septiembre de 2018      40   \n",
       "3       4 de agosto de 2016      50   \n",
       "4       1 de agosto de 2016      40   \n",
       "5       12 de marzo de 2016      50   \n",
       "6     25 de febrero de 2016      40   \n",
       "7  16 de septiembre de 2015      50   \n",
       "8  11 de septiembre de 2015      40   \n",
       "9      19 de agosto de 2015      40   \n",
       "\n",
       "                                             Reviews  \\\n",
       "0  Tuve la experiencia de ir almozar a este típic...   \n",
       "1  El restaurante es agradable, antiguo y familia...   \n",
       "2  Llegamos tarde como a las 17 horas, ya no habí...   \n",
       "3  Hace años no disfrutaba de un almuerzo en este...   \n",
       "4  Lugar típico de cocina colombiana que uno no p...   \n",
       "5  Luego de visitarlo hace 40 años, me consigo un...   \n",
       "6  El entorno es muy agradable, desde la decoraci...   \n",
       "7  Exquisita calidad en los platos típicos colomb...   \n",
       "8  Regrese después de muchos años y de malas expe...   \n",
       "9  Estuve con unos amigos y esposa disfrutando es...   \n",
       "\n",
       "                       Tipo  \\\n",
       "0  Colombiana, Sudamericana   \n",
       "1  Colombiana, Sudamericana   \n",
       "2  Colombiana, Sudamericana   \n",
       "3  Colombiana, Sudamericana   \n",
       "4  Colombiana, Sudamericana   \n",
       "5  Colombiana, Sudamericana   \n",
       "6  Colombiana, Sudamericana   \n",
       "7  Colombiana, Sudamericana   \n",
       "8  Colombiana, Sudamericana   \n",
       "9  Colombiana, Sudamericana   \n",
       "\n",
       "                                     reviews_limpios etiquetas  \n",
       "0  experiencia almozar típico restaurante colombi...  positive  \n",
       "1  restaurante agradable antiguo familiar persona...  positive  \n",
       "2  llegamos tarde horas público atendieron bien c...  positive  \n",
       "3  hace años disfrutaba almuerzo agradable restau...  positive  \n",
       "4  lugar típico cocina colombiana puede dejar vis...  positive  \n",
       "5  luego visitarlo hace años consigo restaurante ...  positive  \n",
       "6  entorno agradable decoración música servicio p...  positive  \n",
       "7  exquisita calidad platos típicos colombianos z...  positive  \n",
       "8  regrese después años malas experiencias ahora ...  positive  \n",
       "9  amigos esposa disfrutando lugar coincido denom...  positive  "
      ]
     },
     "execution_count": 33,
     "metadata": {},
     "output_type": "execute_result"
    }
   ],
   "source": [
    "df = df[df['etiquetas'] != 'neutral']\n",
    "df.head(10)\n",
    "# convert airline_seentiment to numeric\n"
   ]
  },
  {
   "cell_type": "code",
   "execution_count": 34,
   "metadata": {
    "colab": {
     "base_uri": "https://localhost:8080/"
    },
    "executionInfo": {
     "elapsed": 395,
     "status": "ok",
     "timestamp": 1620522903022,
     "user": {
      "displayName": "Andres Felipe Nieto Grandas",
      "photoUrl": "https://lh3.googleusercontent.com/a-/AOh14GiVwnHrOcAcuO7hAAvGfu388UdN50UtNnedLL27=s64",
      "userId": "12110662847858295180"
     },
     "user_tz": 300
    },
    "id": "GqOmqtT_rx-d",
    "outputId": "9c513203-6d1d-4da3-96e7-a2538b365821"
   },
   "outputs": [
    {
     "data": {
      "text/plain": [
       "(40206, 8)"
      ]
     },
     "execution_count": 34,
     "metadata": {},
     "output_type": "execute_result"
    }
   ],
   "source": [
    "df.shape"
   ]
  },
  {
   "cell_type": "code",
   "execution_count": 35,
   "metadata": {
    "colab": {
     "base_uri": "https://localhost:8080/"
    },
    "executionInfo": {
     "elapsed": 403,
     "status": "ok",
     "timestamp": 1620522917552,
     "user": {
      "displayName": "Andres Felipe Nieto Grandas",
      "photoUrl": "https://lh3.googleusercontent.com/a-/AOh14GiVwnHrOcAcuO7hAAvGfu388UdN50UtNnedLL27=s64",
      "userId": "12110662847858295180"
     },
     "user_tz": 300
    },
    "id": "8bwzORzArj5s",
    "outputId": "4b524735-2783-462f-b98f-bca5f6faec05"
   },
   "outputs": [
    {
     "name": "stdout",
     "output_type": "stream",
     "text": [
      "(array([0, 0, 0, ..., 0, 0, 0], dtype=int64), Index(['positive', 'negative'], dtype='object'))\n"
     ]
    }
   ],
   "source": [
    "sentiment_label = df.etiquetas.factorize() # convierte a factores numéricos\n",
    "print(sentiment_label)"
   ]
  },
  {
   "cell_type": "markdown",
   "metadata": {
    "id": "OpWw-128UQtN"
   },
   "source": [
    "## Modelo Predictivo: polaridad"
   ]
  },
  {
   "cell_type": "markdown",
   "metadata": {
    "id": "eSSv5drNUQtN"
   },
   "source": [
    "### Preprocesamiento de textos"
   ]
  },
  {
   "cell_type": "code",
   "execution_count": 36,
   "metadata": {
    "executionInfo": {
     "elapsed": 384,
     "status": "ok",
     "timestamp": 1620522972433,
     "user": {
      "displayName": "Andres Felipe Nieto Grandas",
      "photoUrl": "https://lh3.googleusercontent.com/a-/AOh14GiVwnHrOcAcuO7hAAvGfu388UdN50UtNnedLL27=s64",
      "userId": "12110662847858295180"
     },
     "user_tz": 300
    },
    "id": "W7Y54Xm3w7As"
   },
   "outputs": [],
   "source": [
    "from tensorflow.keras.preprocessing.text import Tokenizer\n",
    "from tensorflow.keras.preprocessing.sequence import pad_sequences"
   ]
  },
  {
   "cell_type": "code",
   "execution_count": 92,
   "metadata": {
    "executionInfo": {
     "elapsed": 414,
     "status": "ok",
     "timestamp": 1620522999998,
     "user": {
      "displayName": "Andres Felipe Nieto Grandas",
      "photoUrl": "https://lh3.googleusercontent.com/a-/AOh14GiVwnHrOcAcuO7hAAvGfu388UdN50UtNnedLL27=s64",
      "userId": "12110662847858295180"
     },
     "user_tz": 300
    },
    "id": "x1O5xMjVUQtO"
   },
   "outputs": [],
   "source": [
    "\n",
    "df['reviews_limpios'] = df['reviews_limpios'].astype(str)\n"
   ]
  },
  {
   "cell_type": "code",
   "execution_count": 93,
   "metadata": {
    "executionInfo": {
     "elapsed": 2333,
     "status": "ok",
     "timestamp": 1620523020367,
     "user": {
      "displayName": "Andres Felipe Nieto Grandas",
      "photoUrl": "https://lh3.googleusercontent.com/a-/AOh14GiVwnHrOcAcuO7hAAvGfu388UdN50UtNnedLL27=s64",
      "userId": "12110662847858295180"
     },
     "user_tz": 300
    },
    "id": "vTvBzqJXUQtO"
   },
   "outputs": [],
   "source": [
    "review = df.reviews_limpios.values\n",
    "tokenizer = Tokenizer(num_words=5000)\n",
    "tokenizer.fit_on_texts(review)\n",
    "vocab_size = len(tokenizer.word_index) + 1\n",
    "encoded_docs = tokenizer.texts_to_sequences(review)\n",
    "padded_sequence = pad_sequences(encoded_docs, maxlen=200)"
   ]
  },
  {
   "cell_type": "code",
   "execution_count": 94,
   "metadata": {
    "colab": {
     "base_uri": "https://localhost:8080/"
    },
    "executionInfo": {
     "elapsed": 371,
     "status": "ok",
     "timestamp": 1620523024801,
     "user": {
      "displayName": "Andres Felipe Nieto Grandas",
      "photoUrl": "https://lh3.googleusercontent.com/a-/AOh14GiVwnHrOcAcuO7hAAvGfu388UdN50UtNnedLL27=s64",
      "userId": "12110662847858295180"
     },
     "user_tz": 300
    },
    "id": "n3BYtc6xxE8T",
    "outputId": "ff35e163-f84e-42ac-c3c0-8e953540252e"
   },
   "outputs": [
    {
     "name": "stdout",
     "output_type": "stream",
     "text": [
      "(40206,)\n"
     ]
    }
   ],
   "source": [
    "print(review.shape)"
   ]
  },
  {
   "cell_type": "code",
   "execution_count": 95,
   "metadata": {
    "colab": {
     "base_uri": "https://localhost:8080/"
    },
    "executionInfo": {
     "elapsed": 385,
     "status": "ok",
     "timestamp": 1620523032969,
     "user": {
      "displayName": "Andres Felipe Nieto Grandas",
      "photoUrl": "https://lh3.googleusercontent.com/a-/AOh14GiVwnHrOcAcuO7hAAvGfu388UdN50UtNnedLL27=s64",
      "userId": "12110662847858295180"
     },
     "user_tz": 300
    },
    "id": "Wzw7XVNnxTVI",
    "outputId": "34f2ef54-6678-4c53-9f9d-066c905f799a"
   },
   "outputs": [
    {
     "name": "stdout",
     "output_type": "stream",
     "text": [
      "restaurante agradable antiguo familiar personal agradó bastante servicio bueno comida típica colombiana bien lograda clásico tour gastronómico bogotá recomendado\n",
      "[9, 12, 1802, 230, 47, 4107, 57, 5, 18, 1, 248, 153, 11, 2350, 616, 2482, 1663, 21, 16]\n"
     ]
    }
   ],
   "source": [
    "print(review[1])\n",
    "print(encoded_docs[1])"
   ]
  },
  {
   "cell_type": "code",
   "execution_count": 96,
   "metadata": {
    "colab": {
     "base_uri": "https://localhost:8080/"
    },
    "executionInfo": {
     "elapsed": 397,
     "status": "ok",
     "timestamp": 1620523039203,
     "user": {
      "displayName": "Andres Felipe Nieto Grandas",
      "photoUrl": "https://lh3.googleusercontent.com/a-/AOh14GiVwnHrOcAcuO7hAAvGfu388UdN50UtNnedLL27=s64",
      "userId": "12110662847858295180"
     },
     "user_tz": 300
    },
    "id": "eGp0kQOAxYUy",
    "outputId": "9e07b1a6-10fa-4ae0-a98b-2fc6201bb3f6"
   },
   "outputs": [
    {
     "name": "stdout",
     "output_type": "stream",
     "text": [
      "[   0    0    0    0    0    0    0    0    0    0    0    0    0    0\n",
      "    0    0    0    0    0    0    0    0    0    0    0    0    0    0\n",
      "    0    0    0    0    0    0    0    0    0    0    0    0    0    0\n",
      "    0    0    0    0    0    0    0    0    0    0    0    0    0    0\n",
      "    0    0    0    0    0    0    0    0    0    0    0    0    0    0\n",
      "    0    0    0    0    0    0    0    0    0    0    0    0    0    0\n",
      "    0    0    0    0    0    0    0    0    0    0    0    0    0    0\n",
      "    0    0    0    0    0    0    0    0    0    0    0    0    0    0\n",
      "    0    0    0    0    0    0    0    0    0    0    0    0    0    0\n",
      "    0    0    0    0    0    0    0    0    0    0    0    0    0    0\n",
      "    0    0    0    0    0    0    0    0    0    0    0    0    0    0\n",
      "    0    0    0    0    0    0    0    0    0    0    0    0    0    0\n",
      "    0    0    0    0    0    0    0    0    0    0    0    0    0    9\n",
      "   12 1802  230   47 4107   57    5   18    1  248  153   11 2350  616\n",
      " 2482 1663   21   16]\n"
     ]
    }
   ],
   "source": [
    "print(padded_sequence[1])"
   ]
  },
  {
   "cell_type": "markdown",
   "metadata": {
    "id": "qwmLbf4dUQtP"
   },
   "source": [
    "### El Modelo keras"
   ]
  },
  {
   "cell_type": "code",
   "execution_count": 102,
   "metadata": {
    "colab": {
     "base_uri": "https://localhost:8080/"
    },
    "executionInfo": {
     "elapsed": 470,
     "status": "ok",
     "timestamp": 1620524466460,
     "user": {
      "displayName": "Andres Felipe Nieto Grandas",
      "photoUrl": "https://lh3.googleusercontent.com/a-/AOh14GiVwnHrOcAcuO7hAAvGfu388UdN50UtNnedLL27=s64",
      "userId": "12110662847858295180"
     },
     "user_tz": 300
    },
    "id": "UOTz2t9d1OAj",
    "jupyter": {
     "source_hidden": true
    },
    "outputId": "1005dc62-cfa2-43f4-ab23-5755af55b776",
    "tags": []
   },
   "outputs": [
    {
     "name": "stdout",
     "output_type": "stream",
     "text": [
      "WARNING:tensorflow:Layer lstm_1 will not use cuDNN kernel since it doesn't meet the cuDNN kernel criteria. It will use generic GPU kernel as fallback when running on GPU\n",
      "Model: \"sequential_1\"\n",
      "_________________________________________________________________\n",
      "Layer (type)                 Output Shape              Param #   \n",
      "=================================================================\n",
      "embedding_1 (Embedding)      (None, 200, 32)           886304    \n",
      "_________________________________________________________________\n",
      "spatial_dropout1d_1 (Spatial (None, 200, 32)           0         \n",
      "_________________________________________________________________\n",
      "lstm_1 (LSTM)                (None, 30)                7560      \n",
      "_________________________________________________________________\n",
      "dropout_1 (Dropout)          (None, 30)                0         \n",
      "_________________________________________________________________\n",
      "dense_1 (Dense)              (None, 1)                 31        \n",
      "=================================================================\n",
      "Total params: 893,895\n",
      "Trainable params: 893,895\n",
      "Non-trainable params: 0\n",
      "_________________________________________________________________\n",
      "None\n"
     ]
    }
   ],
   "source": [
    "# Build the model\n",
    "from tensorflow.keras.models import Sequential\n",
    "from tensorflow.keras.layers import LSTM,Dense, Dropout, SpatialDropout1D\n",
    "from tensorflow.keras.layers import Embedding\n",
    "\n",
    "embedding_vector_length = 32\n",
    "model = Sequential() \n",
    "model.add(Embedding(vocab_size, embedding_vector_length, input_length=200) )\n",
    "model.add(SpatialDropout1D(0.25))\n",
    "model.add(LSTM(30, dropout=0.5, recurrent_dropout=0.5))\n",
    "model.add(Dropout(0.2))\n",
    "model.add(Dense(1, activation='sigmoid')) \n",
    "model.compile(loss='binary_crossentropy',optimizer='adam', metrics=['accuracy'])  \n",
    "print(model.summary()) \n"
   ]
  },
  {
   "cell_type": "code",
   "execution_count": 99,
   "metadata": {
    "executionInfo": {
     "elapsed": 332,
     "status": "ok",
     "timestamp": 1620523076300,
     "user": {
      "displayName": "Andres Felipe Nieto Grandas",
      "photoUrl": "https://lh3.googleusercontent.com/a-/AOh14GiVwnHrOcAcuO7hAAvGfu388UdN50UtNnedLL27=s64",
      "userId": "12110662847858295180"
     },
     "user_tz": 300
    },
    "id": "GNEFFGZ46qoF",
    "tags": []
   },
   "outputs": [],
   "source": [
    "#from tensorflow.keras.utils import plot_model\n",
    "#plot_model(model, to_file='../Imagenes/model.png')"
   ]
  },
  {
   "cell_type": "code",
   "execution_count": 103,
   "metadata": {
    "colab": {
     "base_uri": "https://localhost:8080/"
    },
    "executionInfo": {
     "elapsed": 674425,
     "status": "ok",
     "timestamp": 1620525151854,
     "user": {
      "displayName": "Andres Felipe Nieto Grandas",
      "photoUrl": "https://lh3.googleusercontent.com/a-/AOh14GiVwnHrOcAcuO7hAAvGfu388UdN50UtNnedLL27=s64",
      "userId": "12110662847858295180"
     },
     "user_tz": 300
    },
    "id": "-VPZ2FW-UQtQ",
    "outputId": "073c2d99-3348-43aa-f81d-312f2013a332"
   },
   "outputs": [
    {
     "name": "stdout",
     "output_type": "stream",
     "text": [
      "1006/1006 [==============================] - 674s 668ms/step - loss: 0.2689 - accuracy: 0.9131 - val_loss: 0.0792 - val_accuracy: 0.9725\n"
     ]
    }
   ],
   "source": [
    "history = model.fit(padded_sequence,sentiment_label[0],validation_split=0.2, epochs=1, batch_size=32)"
   ]
  },
  {
   "cell_type": "code",
   "execution_count": 113,
   "metadata": {
    "colab": {
     "base_uri": "https://localhost:8080/",
     "height": 269
    },
    "executionInfo": {
     "elapsed": 404,
     "status": "ok",
     "timestamp": 1620525420963,
     "user": {
      "displayName": "Andres Felipe Nieto Grandas",
      "photoUrl": "https://lh3.googleusercontent.com/a-/AOh14GiVwnHrOcAcuO7hAAvGfu388UdN50UtNnedLL27=s64",
      "userId": "12110662847858295180"
     },
     "user_tz": 300
    },
    "id": "YrC4fSm8UQtR",
    "outputId": "aad8bfd7-e939-4ab6-c373-96d2e835de0e"
   },
   "outputs": [
    {
     "data": {
      "image/png": "[encoded data removed]",
      "text/plain": [
       "<Figure size 432x288 with 1 Axes>"
      ]
     },
     "metadata": {
      "needs_background": "light",
      "tags": []
     },
     "output_type": "display_data"
    }
   ],
   "source": [
    "from matplotlib import pyplot as plt\n",
    "\n",
    "plt.plot(history.history['accuracy'], label='accuracy')\n",
    "plt.plot(history.history['val_accuracy'], label='val accuracy')\n",
    "plt.ylim([0.9,1.0])\n",
    "plt.legend()\n",
    "plt.show()"
   ]
  },
  {
   "cell_type": "code",
   "execution_count": 106,
   "metadata": {
    "colab": {
     "base_uri": "https://localhost:8080/"
    },
    "executionInfo": {
     "elapsed": 393,
     "status": "ok",
     "timestamp": 1620525216268,
     "user": {
      "displayName": "Andres Felipe Nieto Grandas",
      "photoUrl": "https://lh3.googleusercontent.com/a-/AOh14GiVwnHrOcAcuO7hAAvGfu388UdN50UtNnedLL27=s64",
      "userId": "12110662847858295180"
     },
     "user_tz": 300
    },
    "id": "SGahz6KJUQtR",
    "outputId": "6409a3a5-90f4-439f-fd86-d11628fa8a8e"
   },
   "outputs": [
    {
     "data": {
      "text/plain": [
       "{'accuracy': [0.9384715557098389],\n",
       " 'loss': [0.1770823448896408],\n",
       " 'val_accuracy': [0.9725192785263062],\n",
       " 'val_loss': [0.07916438579559326]}"
      ]
     },
     "execution_count": 106,
     "metadata": {
      "tags": []
     },
     "output_type": "execute_result"
    }
   ],
   "source": [
    "history.history"
   ]
  },
  {
   "cell_type": "code",
   "execution_count": 107,
   "metadata": {
    "colab": {
     "base_uri": "https://localhost:8080/",
     "height": 265
    },
    "executionInfo": {
     "elapsed": 448,
     "status": "ok",
     "timestamp": 1620525223685,
     "user": {
      "displayName": "Andres Felipe Nieto Grandas",
      "photoUrl": "https://lh3.googleusercontent.com/a-/AOh14GiVwnHrOcAcuO7hAAvGfu388UdN50UtNnedLL27=s64",
      "userId": "12110662847858295180"
     },
     "user_tz": 300
    },
    "id": "Qa8HQZYGUQtR",
    "outputId": "390060c5-2363-449e-8a4c-8cf3e84b3d71"
   },
   "outputs": [
    {
     "data": {
      "image/png": "[encoded data removed]",
      "text/plain": [
       "<Figure size 432x288 with 1 Axes>"
      ]
     },
     "metadata": {
      "needs_background": "light",
      "tags": []
     },
     "output_type": "display_data"
    }
   ],
   "source": [
    "plt.plot(history.history['loss'], label='loss')\n",
    "plt.plot(history.history['val_loss'], label='val_loss')\n",
    "plt.legend()\n",
    "plt.show()"
   ]
  },
  {
   "cell_type": "code",
   "execution_count": 116,
   "metadata": {
    "colab": {
     "base_uri": "https://localhost:8080/"
    },
    "executionInfo": {
     "elapsed": 372,
     "status": "ok",
     "timestamp": 1620525515583,
     "user": {
      "displayName": "Andres Felipe Nieto Grandas",
      "photoUrl": "https://lh3.googleusercontent.com/a-/AOh14GiVwnHrOcAcuO7hAAvGfu388UdN50UtNnedLL27=s64",
      "userId": "12110662847858295180"
     },
     "user_tz": 300
    },
    "id": "dwLeK3d4UQtS",
    "outputId": "c25eb77d-c721-408d-f0a7-6bd2812740dc"
   },
   "outputs": [
    {
     "data": {
      "text/plain": [
       "array([[   0,    0,    0,    0,    0,    0,    0,    0,    0,    0,    0,\n",
       "           0,    0,    0,    0,    0,    0,    0,    0,    0,    0,    0,\n",
       "           0,    0,    0,    0,    0,    0,    0,    0,    0,    0,    0,\n",
       "           0,    0,    0,    0,    0,    0,    0,    0,    0,    0,    0,\n",
       "           0,    0,    0,    0,    0,    0,    0,    0,    0,    0,    0,\n",
       "           0,    0,    0,    0,    0,    0,    0,    0,    0,    0,    0,\n",
       "           0,    0,    0,    0,    0,    0,    0,    0,    0,    0,    0,\n",
       "           0,    0,    0,    0,    0,    0,    0,    0,    0,    0,    0,\n",
       "           0,    0,    0,    0,    0,    0,    0,    0,    0,    0,    0,\n",
       "           0,    0,    0,    0,    0,    0,    0,    0,    0,    0,    0,\n",
       "           0,    0,    0,    0,    0,    0,    0,    0,    0,    0,    0,\n",
       "           0,    0,    0,    0,    0,    0,    0,    0,    0,    0,    0,\n",
       "           0,    0,    0,    0,    0,    0,    0,    0,    0,    0,    0,\n",
       "           0,    0,    0,    0,    0,    0,    0,    0,    0,    0,    0,\n",
       "           0,    0,    0,    0,    0,    0,    0,    0,    0,    0,    0,\n",
       "           0,    0,    0,    0,    0,    0,    0,    0,    0,    0,    0,\n",
       "           0,    0,    0,    0,    0,    0,    0,    0,    0,    0,    0,\n",
       "           0,    0,    0,    0,    0,   93,   14,   39,    8,    5,   16,\n",
       "        1085,  822]], dtype=int32)"
      ]
     },
     "execution_count": 116,
     "metadata": {
      "tags": []
     },
     "output_type": "execute_result"
    }
   ],
   "source": [
    "test_rev = []\n",
    "test_rev.append(df['reviews_limpios'][20])\n",
    "tw = tokenizer.texts_to_sequences(test_rev)\n",
    "tw = pad_sequences(tw,maxlen=200)\n",
    "tw"
   ]
  },
  {
   "cell_type": "code",
   "execution_count": 117,
   "metadata": {
    "colab": {
     "base_uri": "https://localhost:8080/"
    },
    "executionInfo": {
     "elapsed": 382,
     "status": "ok",
     "timestamp": 1620525520210,
     "user": {
      "displayName": "Andres Felipe Nieto Grandas",
      "photoUrl": "https://lh3.googleusercontent.com/a-/AOh14GiVwnHrOcAcuO7hAAvGfu388UdN50UtNnedLL27=s64",
      "userId": "12110662847858295180"
     },
     "user_tz": 300
    },
    "id": "zcK3N7uHwf7r",
    "outputId": "a36af60a-8384-48db-f83f-6bb508e7f228"
   },
   "outputs": [
    {
     "data": {
      "text/plain": [
       "array([[0.00768345]], dtype=float32)"
      ]
     },
     "execution_count": 117,
     "metadata": {
      "tags": []
     },
     "output_type": "execute_result"
    }
   ],
   "source": [
    "prediction = model.predict(tw)\n",
    "prediction"
   ]
  },
  {
   "cell_type": "code",
   "execution_count": null,
   "metadata": {
    "id": "XvvLt2wtUQtS"
   },
   "outputs": [],
   "source": []
  }
 ],
 "metadata": {
  "accelerator": "GPU",
  "colab": {
   "name": "nlp_Sentiment Analysis.ipynb",
   "provenance": [],
   "toc_visible": true
  },
  "kernelspec": {
   "display_name": "Python 3",
   "language": "python",
   "name": "python3"
  },
  "language_info": {
   "codemirror_mode": {
    "name": "ipython",
    "version": 3
   },
   "file_extension": ".py",
   "mimetype": "text/x-python",
   "name": "python",
   "nbconvert_exporter": "python",
   "pygments_lexer": "ipython3",
   "version": "3.8.8"
  },
  "toc-autonumbering": false
 },
 "nbformat": 4,
 "nbformat_minor": 4
}
