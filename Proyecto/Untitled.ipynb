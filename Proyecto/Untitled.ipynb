{
 "cells": [
  {
   "cell_type": "code",
   "execution_count": 3,
   "id": "bc277daf",
   "metadata": {},
   "outputs": [],
   "source": [
    "import transformers\n",
    "import shap\n",
    "import numpy as np\n",
    "import pandas as pd"
   ]
  },
  {
   "cell_type": "code",
   "execution_count": 4,
   "id": "c674ce60",
   "metadata": {},
   "outputs": [],
   "source": [
    "dataset = pd.read_csv('restaurant_reviews.csv')\n",
    "\n",
    "# shorten the strings to fit into the pipeline model\n",
    "short_data = [v[:500] for v in dataset[\"Reviews\"][:20]]"
   ]
  },
  {
   "cell_type": "code",
   "execution_count": 5,
   "id": "746d5961",
   "metadata": {},
   "outputs": [
    {
     "name": "stdout",
     "output_type": "stream",
     "text": [
      "['Tuve la experiencia de ir almozar a este típico restaurante colombiano en el centro de bogota. Sus platos están deliciosos y además la mezcla de sabores de esta cultura no se puede dejar de probar.', 'El restaurante es agradable, antiguo y familiar. En lo personal me agradó bastante, el servicio es bueno y su comida típica colombiana está muy bien lograda. Es un clásico del tour gastronómico de Bogotá, recomendado.', 'Llegamos tarde como a las 17 horas, ya no había público pero nos atendieron bien y comimos deliciosos platos típicos de Bogotá con una música de fondo que me encantó, tal parece que ayuda con la tradición del lugar. Más de 50 años de prestigio.', 'Hace años no disfrutaba de un almuerzo en este agradable restaurante. El ambiente de todo mi gusto. Atención y recetas excelentes.', 'Lugar típico de cocina colombiana que uno no puede dejar de visitar si se encuentra en Bogotá (ciudad que, por cierto, vive en estos tiempos una suerte de inflación culinaria, con apertura de decenas de nuevos locales, muchas veces excesivamente pretenciosos, excesivamente costosos y gastronómicamente...Más', 'Luego de visitarlo hace 40 años, me consigo un Restaurante más fortalecido, al punto de tener sucursales. Cuando desee comer gastronomía Colombiana, este es el aeropuerto culinario donde lo encontrará. Ambiente cosmopolita y a la vez es una casona con patio central, con música de...Más', 'El entorno es muy agradable, desde la decoración, la música, y el servicio. Los platos son típicos Colombianos y tienen una variedad considerable. El precio es medianamente elevado, pero es bueno si se quiere disfrutar de un plato muy completo y típico Colombiano.', 'Exquisita calidad en los platos típicos colombianos y zumos de frutas,vinos. Excelente atención del personal.', 'Regrese después de muchos años y de malas experiencias. Ahora debo decir que me gusto y tiene platos típicos bastante buenos, con una atención aceptable y una música de piano que quizás deberían adecuar al tamaño del restaurante. Los platos muy bien servidos, con gusto...Más', 'Estuve con unos amigos y esposa disfrutando este lugar, coincido con la denominación de \"típico\" el servicio es muy bueno, el menú es bastante variado y estando con diferentes amigos originarios de varias partes de Colombia lo califican de muy bueno. Mi esposa y yo...Más', 'Creo que ya pasó de moda. No lo han actualizado. deben mejorar la presentacion de los platos típicos.', 'Es comida tipica, el lugar es pequeño (a menos a si se me hizo), pero la comida es muy rica y muy vasta.', 'Bonito restaurante para un almuerzo de negocios. Les recomiendo las entradas y una buena cerveza. Precios acordes.', 'Es un restaurante en una vieja pero magnífica casona que perteneció a la iglesia. Su decoración es muy bonita y de noche es realmente acogedor. Su oferta gastronómica es típica muy agradable sin ser nada especial. Puede visitarse.', 'recomiendo el Ajiaco colombiano es delicioso , el lugar es bonito y tipico Colombiche.', 'Buenísima la visité luego de muchísimos años y todavía guarda su estilo y buen comer', 'Pequeño restaurante tradicional antiguo en la plaza de los Periodistas. Lleno de lugareños cuando fuimos allí para el almuerzo. Buena comida, excelentes zumos, personal encantador.', 'El ambiente era perfecto para nosotros como una nueva pareja y el servicio era para la tarea. La comida no era muy buena, pero era bueno. Un lugar encantador para un menú un poco más tradicional. colombiano', 'Este restaurante tiene una decoración preciosa y la comida es muuy rica, la atención es muy buena y las instalaciones son ideales para fotografías lindas.', 'Muy bien atendidos, muy bueno el sabor de las pizzas, y los jugos deliciosos. La más rica de las pizzas me pareció la de Salmón ahumado y la frankenstein.']\n"
     ]
    }
   ],
   "source": [
    "print(short_data)"
   ]
  },
  {
   "cell_type": "code",
   "execution_count": 4,
   "id": "1144ba3d",
   "metadata": {},
   "outputs": [
    {
     "data": {
      "application/vnd.jupyter.widget-view+json": {
       "model_id": "0c49fd2d9d3a42699fa9e772b13c387e",
       "version_major": 2,
       "version_minor": 0
      },
      "text/plain": [
       "HBox(children=(FloatProgress(value=0.0, description='Downloading', max=629.0, style=ProgressStyle(description_…"
      ]
     },
     "metadata": {},
     "output_type": "display_data"
    },
    {
     "name": "stdout",
     "output_type": "stream",
     "text": [
      "\n"
     ]
    },
    {
     "data": {
      "application/vnd.jupyter.widget-view+json": {
       "model_id": "1351bbf737894fd78312cfc82d00c9c6",
       "version_major": 2,
       "version_minor": 0
      },
      "text/plain": [
       "HBox(children=(FloatProgress(value=0.0, description='Downloading', max=267949840.0, style=ProgressStyle(descri…"
      ]
     },
     "metadata": {},
     "output_type": "display_data"
    },
    {
     "name": "stdout",
     "output_type": "stream",
     "text": [
      "\n"
     ]
    },
    {
     "name": "stderr",
     "output_type": "stream",
     "text": [
      "All model checkpoint layers were used when initializing TFDistilBertForSequenceClassification.\n",
      "\n",
      "All the layers of TFDistilBertForSequenceClassification were initialized from the model checkpoint at distilbert-base-uncased-finetuned-sst-2-english.\n",
      "If your task is similar to the task the model of the checkpoint was trained on, you can already use TFDistilBertForSequenceClassification for predictions without further training.\n"
     ]
    },
    {
     "data": {
      "application/vnd.jupyter.widget-view+json": {
       "model_id": "fffc65ca34c346e98c0ae69a7ece74ad",
       "version_major": 2,
       "version_minor": 0
      },
      "text/plain": [
       "HBox(children=(FloatProgress(value=0.0, description='Downloading', max=231508.0, style=ProgressStyle(descripti…"
      ]
     },
     "metadata": {},
     "output_type": "display_data"
    },
    {
     "name": "stdout",
     "output_type": "stream",
     "text": [
      "\n"
     ]
    },
    {
     "data": {
      "application/vnd.jupyter.widget-view+json": {
       "model_id": "5377c9ba1da644408b7cf0b521b5c9e8",
       "version_major": 2,
       "version_minor": 0
      },
      "text/plain": [
       "HBox(children=(FloatProgress(value=0.0, description='Downloading', max=48.0, style=ProgressStyle(description_w…"
      ]
     },
     "metadata": {},
     "output_type": "display_data"
    },
    {
     "name": "stdout",
     "output_type": "stream",
     "text": [
      "\n"
     ]
    },
    {
     "data": {
      "text/plain": [
       "[[{'label': 'NEGATIVE', 'score': 0.9224669337272644},\n",
       "  {'label': 'POSITIVE', 'score': 0.07753311097621918}],\n",
       " [{'label': 'NEGATIVE', 'score': 0.5764338970184326},\n",
       "  {'label': 'POSITIVE', 'score': 0.42356616258621216}]]"
      ]
     },
     "execution_count": 4,
     "metadata": {},
     "output_type": "execute_result"
    }
   ],
   "source": [
    "classifier = transformers.pipeline('sentiment-analysis', return_all_scores=True)\n",
    "classifier(short_data[:2])"
   ]
  },
  {
   "cell_type": "code",
   "execution_count": 1,
   "id": "6446fbe9",
   "metadata": {},
   "outputs": [],
   "source": [
    "from textblob import TextBlob"
   ]
  },
  {
   "cell_type": "code",
   "execution_count": 32,
   "id": "f212dbab",
   "metadata": {},
   "outputs": [
    {
     "name": "stdout",
     "output_type": "stream",
     "text": [
      "Tuve la experiencia de ir almozar a este típico restaurante colombiano en el centro de bogota. Sus platos están deliciosos y además la mezcla de sabores de esta cultura no se puede dejar de probar.\n"
     ]
    }
   ],
   "source": [
    "t = short_data[:1]\n",
    "str1 = ''.join(t)\n",
    "p = TextBlob(str1)\n",
    "print(str1)"
   ]
  },
  {
   "cell_type": "code",
   "execution_count": 33,
   "id": "44710697",
   "metadata": {},
   "outputs": [
    {
     "name": "stdout",
     "output_type": "stream",
     "text": [
      "I had the experience of going to lunch at this typical Colombian restaurant in downtown Bogota. Its dishes are delicious and also the mixture of flavors of this culture cannot be missed.\n",
      "Sentiment(polarity=0.4166666666666667, subjectivity=0.75) \n",
      "\n"
     ]
    }
   ],
   "source": [
    "ten = p.translate(to=\"en\")\n",
    "print(ten)\n",
    "print(ten.sentiment, \"\\n\")"
   ]
  },
  {
   "cell_type": "code",
   "execution_count": 34,
   "id": "ed40b47f",
   "metadata": {},
   "outputs": [
    {
     "name": "stdout",
     "output_type": "stream",
     "text": [
      "Collecting demoji\n",
      "  Downloading demoji-0.4.0-py2.py3-none-any.whl (10 kB)\n",
      "Requirement already satisfied: colorama in c:\\users\\grand\\anaconda3\\lib\\site-packages (from demoji) (0.4.4)\n",
      "Requirement already satisfied: requests<3.0.0 in c:\\users\\grand\\anaconda3\\lib\\site-packages (from demoji) (2.25.1)\n",
      "Requirement already satisfied: idna<3,>=2.5 in c:\\users\\grand\\anaconda3\\lib\\site-packages (from requests<3.0.0->demoji) (2.10)\n",
      "Requirement already satisfied: certifi>=2017.4.17 in c:\\users\\grand\\anaconda3\\lib\\site-packages (from requests<3.0.0->demoji) (2020.12.5)\n",
      "Requirement already satisfied: chardet<5,>=3.0.2 in c:\\users\\grand\\anaconda3\\lib\\site-packages (from requests<3.0.0->demoji) (4.0.0)\n",
      "Requirement already satisfied: urllib3<1.27,>=1.21.1 in c:\\users\\grand\\anaconda3\\lib\\site-packages (from requests<3.0.0->demoji) (1.26.4)\n",
      "Installing collected packages: demoji\n",
      "Successfully installed demoji-0.4.0\n",
      "Note: you may need to restart the kernel to use updated packages.\n"
     ]
    }
   ],
   "source": []
  },
  {
   "cell_type": "code",
   "execution_count": null,
   "id": "993ad2b0",
   "metadata": {},
   "outputs": [],
   "source": []
  }
 ],
 "metadata": {
  "kernelspec": {
   "display_name": "Python 3",
   "language": "python",
   "name": "python3"
  },
  "language_info": {
   "codemirror_mode": {
    "name": "ipython",
    "version": 3
   },
   "file_extension": ".py",
   "mimetype": "text/x-python",
   "name": "python",
   "nbconvert_exporter": "python",
   "pygments_lexer": "ipython3",
   "version": "3.8.8"
  }
 },
 "nbformat": 4,
 "nbformat_minor": 5
}
