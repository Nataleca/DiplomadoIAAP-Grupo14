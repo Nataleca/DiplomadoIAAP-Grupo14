{
 "cells": [
  {
   "cell_type": "code",
   "execution_count": 11,
   "id": "6b5736e5",
   "metadata": {},
   "outputs": [],
   "source": [
    "import transformers\n",
    "import shap\n",
    "import numpy as np\n",
    "import pandas as pd\n",
    "from textblob import TextBlob"
   ]
  },
  {
   "cell_type": "code",
   "execution_count": 6,
   "id": "76ad915b",
   "metadata": {},
   "outputs": [],
   "source": [
    "dataset = pd.read_csv('restaurant_reviews.csv')\n",
    "# shorten the strings to fit into the pipeline model\n",
    "short_data = [v[:500] for v in dataset[\"Reviews\"][:20]]"
   ]
  },
  {
   "cell_type": "code",
   "execution_count": 9,
   "id": "6bd02275",
   "metadata": {},
   "outputs": [
    {
     "name": "stdout",
     "output_type": "stream",
     "text": [
      "['Tuve la experiencia de ir almozar a este típico restaurante colombiano en el centro de bogota. Sus platos están deliciosos y además la mezcla de sabores de esta cultura no se puede dejar de probar.', 'El restaurante es agradable, antiguo y familiar. En lo personal me agradó bastante, el servicio es bueno y su comida típica colombiana está muy bien lograda. Es un clásico del tour gastronómico de Bogotá, recomendado.', 'Llegamos tarde como a las 17 horas, ya no había público pero nos atendieron bien y comimos deliciosos platos típicos de Bogotá con una música de fondo que me encantó, tal parece que ayuda con la tradición del lugar. Más de 50 años de prestigio.', 'Hace años no disfrutaba de un almuerzo en este agradable restaurante. El ambiente de todo mi gusto. Atención y recetas excelentes.', 'Lugar típico de cocina colombiana que uno no puede dejar de visitar si se encuentra en Bogotá (ciudad que, por cierto, vive en estos tiempos una suerte de inflación culinaria, con apertura de decenas de nuevos locales, muchas veces excesivamente pretenciosos, excesivamente costosos y gastronómicamente...Más', 'Luego de visitarlo hace 40 años, me consigo un Restaurante más fortalecido, al punto de tener sucursales. Cuando desee comer gastronomía Colombiana, este es el aeropuerto culinario donde lo encontrará. Ambiente cosmopolita y a la vez es una casona con patio central, con música de...Más', 'El entorno es muy agradable, desde la decoración, la música, y el servicio. Los platos son típicos Colombianos y tienen una variedad considerable. El precio es medianamente elevado, pero es bueno si se quiere disfrutar de un plato muy completo y típico Colombiano.', 'Exquisita calidad en los platos típicos colombianos y zumos de frutas,vinos. Excelente atención del personal.', 'Regrese después de muchos años y de malas experiencias. Ahora debo decir que me gusto y tiene platos típicos bastante buenos, con una atención aceptable y una música de piano que quizás deberían adecuar al tamaño del restaurante. Los platos muy bien servidos, con gusto...Más', 'Estuve con unos amigos y esposa disfrutando este lugar, coincido con la denominación de \"típico\" el servicio es muy bueno, el menú es bastante variado y estando con diferentes amigos originarios de varias partes de Colombia lo califican de muy bueno. Mi esposa y yo...Más', 'Creo que ya pasó de moda. No lo han actualizado. deben mejorar la presentacion de los platos típicos.', 'Es comida tipica, el lugar es pequeño (a menos a si se me hizo), pero la comida es muy rica y muy vasta.', 'Bonito restaurante para un almuerzo de negocios. Les recomiendo las entradas y una buena cerveza. Precios acordes.', 'Es un restaurante en una vieja pero magnífica casona que perteneció a la iglesia. Su decoración es muy bonita y de noche es realmente acogedor. Su oferta gastronómica es típica muy agradable sin ser nada especial. Puede visitarse.', 'recomiendo el Ajiaco colombiano es delicioso , el lugar es bonito y tipico Colombiche.', 'Buenísima la visité luego de muchísimos años y todavía guarda su estilo y buen comer', 'Pequeño restaurante tradicional antiguo en la plaza de los Periodistas. Lleno de lugareños cuando fuimos allí para el almuerzo. Buena comida, excelentes zumos, personal encantador.', 'El ambiente era perfecto para nosotros como una nueva pareja y el servicio era para la tarea. La comida no era muy buena, pero era bueno. Un lugar encantador para un menú un poco más tradicional. colombiano', 'Este restaurante tiene una decoración preciosa y la comida es muuy rica, la atención es muy buena y las instalaciones son ideales para fotografías lindas.', 'Muy bien atendidos, muy bueno el sabor de las pizzas, y los jugos deliciosos. La más rica de las pizzas me pareció la de Salmón ahumado y la frankenstein.']\n"
     ]
    }
   ],
   "source": [
    "print(short_data)"
   ]
  },
  {
   "cell_type": "code",
   "execution_count": 8,
   "id": "858683ad",
   "metadata": {},
   "outputs": [
    {
     "name": "stderr",
     "output_type": "stream",
     "text": [
      "All model checkpoint layers were used when initializing TFDistilBertForSequenceClassification.\n",
      "\n",
      "All the layers of TFDistilBertForSequenceClassification were initialized from the model checkpoint at distilbert-base-uncased-finetuned-sst-2-english.\n",
      "If your task is similar to the task the model of the checkpoint was trained on, you can already use TFDistilBertForSequenceClassification for predictions without further training.\n"
     ]
    },
    {
     "data": {
      "text/plain": [
       "[[{'label': 'NEGATIVE', 'score': 0.9224669337272644},\n",
       "  {'label': 'POSITIVE', 'score': 0.07753311097621918}],\n",
       " [{'label': 'NEGATIVE', 'score': 0.5764338970184326},\n",
       "  {'label': 'POSITIVE', 'score': 0.42356616258621216}]]"
      ]
     },
     "execution_count": 8,
     "metadata": {},
     "output_type": "execute_result"
    }
   ],
   "source": [
    "classifier = transformers.pipeline('sentiment-analysis', return_all_scores=True)\n",
    "classifier(short_data[:2])"
   ]
  },
  {
   "cell_type": "code",
   "execution_count": 14,
   "id": "69c922dd",
   "metadata": {},
   "outputs": [
    {
     "name": "stdout",
     "output_type": "stream",
     "text": [
      "Tuve la experiencia de ir almozar a este típico restaurante colombiano en el centro de bogota. Sus platos están deliciosos y además la mezcla de sabores de esta cultura no se puede dejar de probar.\n"
     ]
    }
   ],
   "source": [
    "#Textblob sentimientos de español a ingles\n",
    "t = short_data[:1]\n",
    "str1 = ''.join(t)\n",
    "p = TextBlob(str1)\n",
    "print(str1)"
   ]
  },
  {
   "cell_type": "code",
   "execution_count": 15,
   "id": "fd88e920",
   "metadata": {},
   "outputs": [
    {
     "name": "stdout",
     "output_type": "stream",
     "text": [
      "I had the experience of going to lunch at this typical Colombian restaurant in downtown Bogota. Its dishes are delicious and also the mixture of flavors of this culture cannot be missed.\n",
      "Sentiment(polarity=0.4166666666666667, subjectivity=0.75) \n",
      "\n"
     ]
    }
   ],
   "source": [
    "ten = p.translate(to=\"en\")\n",
    "print(ten)\n",
    "print(ten.sentiment, \"\\n\")"
   ]
  },
  {
   "cell_type": "code",
   "execution_count": 1,
   "id": "7feab169",
   "metadata": {},
   "outputs": [],
   "source": [
    "import pandas as pd\n",
    "from textblob import TextBlob\n",
    "from textblob.sentiments import NaiveBayesAnalyzer"
   ]
  },
  {
   "cell_type": "code",
   "execution_count": 7,
   "id": "3e6b403d-2469-4bba-a9c7-24978583875a",
   "metadata": {},
   "outputs": [],
   "source": [
    "def translateText(dataText):   \n",
    "    reviews = []\n",
    "    for i in dataText:\n",
    "        rev = []\n",
    "        #trans = TextBlob(i)\n",
    "        #i.translate(to='en')\n",
    "        rev.append(i)\n",
    "    reviews.append(rev)   \n",
    "    return reviews\n",
    "    "
   ]
  },
  {
   "cell_type": "code",
   "execution_count": 2,
   "id": "afdc2aaf-dedc-4735-bf6b-6688f4402311",
   "metadata": {},
   "outputs": [],
   "source": [
    "df_reviews = pd.read_csv(\"restaurant_reviews_clean.csv\")"
   ]
  },
  {
   "cell_type": "code",
   "execution_count": 3,
   "id": "a1ffb26d-be70-48d7-bffe-cfd3efde0b61",
   "metadata": {},
   "outputs": [],
   "source": [
    "from googletrans import Translator"
   ]
  },
  {
   "cell_type": "code",
   "execution_count": 5,
   "id": "25792c5f-66d9-4763-91ff-0fae9e7ef653",
   "metadata": {},
   "outputs": [
    {
     "name": "stdout",
     "output_type": "stream",
     "text": [
      "0        experiencia almozar típico restaurante colombi...\n",
      "1        restaurante agradable antiguo familiar persona...\n",
      "2        llegamos tarde horas público atendieron bien c...\n",
      "3        hace años disfrutaba almuerzo agradable restau...\n",
      "4        lugar típico cocina colombiana puede dejar vis...\n",
      "                               ...                        \n",
      "44178    ambiente exclusivo excelente comida siga recom...\n",
      "44179    gran experiencia puede explicar palabras simpl...\n",
      "44180    andrés usted sólo sabor mejores platos colombi...\n",
      "44181    andrés carne duda lugares fantásticos mundo bo...\n",
      "44182    encontrado restaurante mundo fundada músico lo...\n",
      "Name: reviews_limpios, Length: 44183, dtype: object\n"
     ]
    }
   ],
   "source": [
    "print(df_reviews['reviews_limpios'])"
   ]
  },
  {
   "cell_type": "code",
   "execution_count": 18,
   "id": "118a69cc-b62d-47a9-a2cf-eec2063ab5a3",
   "metadata": {},
   "outputs": [
    {
     "ename": "KeyError",
     "evalue": "'key of type tuple not found and not a MultiIndex'",
     "output_type": "error",
     "traceback": [
      "\u001b[1;31m---------------------------------------------------------------------------\u001b[0m",
      "\u001b[1;31mKeyError\u001b[0m                                  Traceback (most recent call last)",
      "\u001b[1;32m<ipython-input-18-d8b60928f438>\u001b[0m in \u001b[0;36m<module>\u001b[1;34m\u001b[0m\n\u001b[0;32m      1\u001b[0m \u001b[0mtranslator\u001b[0m \u001b[1;33m=\u001b[0m \u001b[0mTranslator\u001b[0m\u001b[1;33m(\u001b[0m\u001b[1;33m)\u001b[0m\u001b[1;33m\u001b[0m\u001b[1;33m\u001b[0m\u001b[0m\n\u001b[1;32m----> 2\u001b[1;33m \u001b[0mt\u001b[0m \u001b[1;33m=\u001b[0m \u001b[0mtranslator\u001b[0m\u001b[1;33m.\u001b[0m\u001b[0mtranslate\u001b[0m\u001b[1;33m(\u001b[0m\u001b[0mdf\u001b[0m\u001b[1;33m[\u001b[0m\u001b[1;34m'reviews_limpios'\u001b[0m\u001b[1;33m]\u001b[0m\u001b[1;33m[\u001b[0m\u001b[1;36m1\u001b[0m\u001b[1;33m,\u001b[0m\u001b[1;33m:\u001b[0m\u001b[1;33m]\u001b[0m\u001b[1;33m)\u001b[0m\u001b[1;33m\u001b[0m\u001b[1;33m\u001b[0m\u001b[0m\n\u001b[0m\u001b[0;32m      3\u001b[0m \u001b[1;33m\u001b[0m\u001b[0m\n\u001b[0;32m      4\u001b[0m \u001b[0mprint\u001b[0m\u001b[1;33m(\u001b[0m\u001b[1;34mf'source: {t.scr}'\u001b[0m\u001b[1;33m)\u001b[0m\u001b[1;33m\u001b[0m\u001b[1;33m\u001b[0m\u001b[0m\n\u001b[0;32m      5\u001b[0m \u001b[0mprint\u001b[0m\u001b[1;33m(\u001b[0m\u001b[1;34mf'destination: {t.dest}'\u001b[0m\u001b[1;33m)\u001b[0m\u001b[1;33m\u001b[0m\u001b[1;33m\u001b[0m\u001b[0m\n",
      "\u001b[1;32m~\\anaconda3\\lib\\site-packages\\pandas\\core\\series.py\u001b[0m in \u001b[0;36m__getitem__\u001b[1;34m(self, key)\u001b[0m\n\u001b[0;32m    875\u001b[0m             \u001b[1;32mreturn\u001b[0m \u001b[0mself\u001b[0m\u001b[1;33m.\u001b[0m\u001b[0m_get_values\u001b[0m\u001b[1;33m(\u001b[0m\u001b[0mkey\u001b[0m\u001b[1;33m)\u001b[0m\u001b[1;33m\u001b[0m\u001b[1;33m\u001b[0m\u001b[0m\n\u001b[0;32m    876\u001b[0m \u001b[1;33m\u001b[0m\u001b[0m\n\u001b[1;32m--> 877\u001b[1;33m         \u001b[1;32mreturn\u001b[0m \u001b[0mself\u001b[0m\u001b[1;33m.\u001b[0m\u001b[0m_get_with\u001b[0m\u001b[1;33m(\u001b[0m\u001b[0mkey\u001b[0m\u001b[1;33m)\u001b[0m\u001b[1;33m\u001b[0m\u001b[1;33m\u001b[0m\u001b[0m\n\u001b[0m\u001b[0;32m    878\u001b[0m \u001b[1;33m\u001b[0m\u001b[0m\n\u001b[0;32m    879\u001b[0m     \u001b[1;32mdef\u001b[0m \u001b[0m_get_with\u001b[0m\u001b[1;33m(\u001b[0m\u001b[0mself\u001b[0m\u001b[1;33m,\u001b[0m \u001b[0mkey\u001b[0m\u001b[1;33m)\u001b[0m\u001b[1;33m:\u001b[0m\u001b[1;33m\u001b[0m\u001b[1;33m\u001b[0m\u001b[0m\n",
      "\u001b[1;32m~\\anaconda3\\lib\\site-packages\\pandas\\core\\series.py\u001b[0m in \u001b[0;36m_get_with\u001b[1;34m(self, key)\u001b[0m\n\u001b[0;32m    890\u001b[0m             )\n\u001b[0;32m    891\u001b[0m         \u001b[1;32melif\u001b[0m \u001b[0misinstance\u001b[0m\u001b[1;33m(\u001b[0m\u001b[0mkey\u001b[0m\u001b[1;33m,\u001b[0m \u001b[0mtuple\u001b[0m\u001b[1;33m)\u001b[0m\u001b[1;33m:\u001b[0m\u001b[1;33m\u001b[0m\u001b[1;33m\u001b[0m\u001b[0m\n\u001b[1;32m--> 892\u001b[1;33m             \u001b[1;32mreturn\u001b[0m \u001b[0mself\u001b[0m\u001b[1;33m.\u001b[0m\u001b[0m_get_values_tuple\u001b[0m\u001b[1;33m(\u001b[0m\u001b[0mkey\u001b[0m\u001b[1;33m)\u001b[0m\u001b[1;33m\u001b[0m\u001b[1;33m\u001b[0m\u001b[0m\n\u001b[0m\u001b[0;32m    893\u001b[0m \u001b[1;33m\u001b[0m\u001b[0m\n\u001b[0;32m    894\u001b[0m         \u001b[1;32melif\u001b[0m \u001b[1;32mnot\u001b[0m \u001b[0mis_list_like\u001b[0m\u001b[1;33m(\u001b[0m\u001b[0mkey\u001b[0m\u001b[1;33m)\u001b[0m\u001b[1;33m:\u001b[0m\u001b[1;33m\u001b[0m\u001b[1;33m\u001b[0m\u001b[0m\n",
      "\u001b[1;32m~\\anaconda3\\lib\\site-packages\\pandas\\core\\series.py\u001b[0m in \u001b[0;36m_get_values_tuple\u001b[1;34m(self, key)\u001b[0m\n\u001b[0;32m    925\u001b[0m \u001b[1;33m\u001b[0m\u001b[0m\n\u001b[0;32m    926\u001b[0m         \u001b[1;32mif\u001b[0m \u001b[1;32mnot\u001b[0m \u001b[0misinstance\u001b[0m\u001b[1;33m(\u001b[0m\u001b[0mself\u001b[0m\u001b[1;33m.\u001b[0m\u001b[0mindex\u001b[0m\u001b[1;33m,\u001b[0m \u001b[0mMultiIndex\u001b[0m\u001b[1;33m)\u001b[0m\u001b[1;33m:\u001b[0m\u001b[1;33m\u001b[0m\u001b[1;33m\u001b[0m\u001b[0m\n\u001b[1;32m--> 927\u001b[1;33m             \u001b[1;32mraise\u001b[0m \u001b[0mKeyError\u001b[0m\u001b[1;33m(\u001b[0m\u001b[1;34m\"key of type tuple not found and not a MultiIndex\"\u001b[0m\u001b[1;33m)\u001b[0m\u001b[1;33m\u001b[0m\u001b[1;33m\u001b[0m\u001b[0m\n\u001b[0m\u001b[0;32m    928\u001b[0m \u001b[1;33m\u001b[0m\u001b[0m\n\u001b[0;32m    929\u001b[0m         \u001b[1;31m# If key is contained, would have returned by now\u001b[0m\u001b[1;33m\u001b[0m\u001b[1;33m\u001b[0m\u001b[1;33m\u001b[0m\u001b[0m\n",
      "\u001b[1;31mKeyError\u001b[0m: 'key of type tuple not found and not a MultiIndex'"
     ]
    }
   ],
   "source": [
    "translator = Translator()\n",
    "t = translator.translate(df['reviews_limpios'][:1])\n",
    "\n",
    "print(f'source: {t.scr}')\n",
    "print(f'destination: {t.dest}')\n",
    "print(f'{t.origin} -> {t.text}')\n"
   ]
  },
  {
   "cell_type": "code",
   "execution_count": 7,
   "id": "bf63468d-4cf0-4aed-80c1-14cbeb79e9dd",
   "metadata": {},
   "outputs": [],
   "source": [
    "translator = Translator()\n",
    "df1 = df_reviews['reviews_limpios'][:5]\n",
    "#df_reviews['reviews_limpios'] = df_reviews['reviews_limpios'].astype(str)\n",
    "df1"
   ]
  },
  {
   "cell_type": "code",
   "execution_count": 14,
   "id": "b7841f26-d6f2-4ea9-8c93-77dcdb13d21b",
   "metadata": {},
   "outputs": [],
   "source": [
    "df_reviews['reviews_traducidas'] = df1.apply(translator.translate,  dest='en').apply(getattr, args=('text',))"
   ]
  },
  {
   "cell_type": "code",
   "execution_count": 15,
   "id": "1b293c9b-d25f-43b8-b731-2e610ec08ca9",
   "metadata": {},
   "outputs": [
    {
     "data": {
      "text/html": [
       "<div>\n",
       "<style scoped>\n",
       "    .dataframe tbody tr th:only-of-type {\n",
       "        vertical-align: middle;\n",
       "    }\n",
       "\n",
       "    .dataframe tbody tr th {\n",
       "        vertical-align: top;\n",
       "    }\n",
       "\n",
       "    .dataframe thead th {\n",
       "        text-align: right;\n",
       "    }\n",
       "</style>\n",
       "<table border=\"1\" class=\"dataframe\">\n",
       "  <thead>\n",
       "    <tr style=\"text-align: right;\">\n",
       "      <th></th>\n",
       "      <th>Unnamed: 0</th>\n",
       "      <th>Unnamed: 0.1</th>\n",
       "      <th>Nombre</th>\n",
       "      <th>Título</th>\n",
       "      <th>Fecha</th>\n",
       "      <th>Rating</th>\n",
       "      <th>Reviews</th>\n",
       "      <th>Tipo</th>\n",
       "      <th>reviews_limpios</th>\n",
       "      <th>reviews_traducidas</th>\n",
       "    </tr>\n",
       "  </thead>\n",
       "  <tbody>\n",
       "    <tr>\n",
       "      <th>0</th>\n",
       "      <td>0</td>\n",
       "      <td>0</td>\n",
       "      <td>Casa Vieja Restaurante</td>\n",
       "      <td>Comida Tiquita en un ambiente muy colombiano</td>\n",
       "      <td>15 de octubre de 2019</td>\n",
       "      <td>50</td>\n",
       "      <td>Tuve la experiencia de ir almozar a este típic...</td>\n",
       "      <td>Colombiana, Sudamericana</td>\n",
       "      <td>experiencia almozar típico restaurante colombi...</td>\n",
       "      <td>experiencia almozar típico restaurante colombi...</td>\n",
       "    </tr>\n",
       "    <tr>\n",
       "      <th>1</th>\n",
       "      <td>1</td>\n",
       "      <td>1</td>\n",
       "      <td>Casa Vieja Restaurante</td>\n",
       "      <td>Me gustó!!</td>\n",
       "      <td>22 de octubre de 2018</td>\n",
       "      <td>40</td>\n",
       "      <td>El restaurante es agradable, antiguo y familia...</td>\n",
       "      <td>Colombiana, Sudamericana</td>\n",
       "      <td>restaurante agradable antiguo familiar persona...</td>\n",
       "      <td>restaurante agradable antiguo familiar persona...</td>\n",
       "    </tr>\n",
       "    <tr>\n",
       "      <th>2</th>\n",
       "      <td>2</td>\n",
       "      <td>2</td>\n",
       "      <td>Casa Vieja Restaurante</td>\n",
       "      <td>Restaurante tradicional frente al Hotel Tequen...</td>\n",
       "      <td>18 de septiembre de 2018</td>\n",
       "      <td>40</td>\n",
       "      <td>Llegamos tarde como a las 17 horas, ya no habí...</td>\n",
       "      <td>Colombiana, Sudamericana</td>\n",
       "      <td>llegamos tarde horas público atendieron bien c...</td>\n",
       "      <td>llegamos tarde horas público atendieron bien c...</td>\n",
       "    </tr>\n",
       "    <tr>\n",
       "      <th>3</th>\n",
       "      <td>3</td>\n",
       "      <td>3</td>\n",
       "      <td>Casa Vieja Restaurante</td>\n",
       "      <td>QUE GRATO VOLVER</td>\n",
       "      <td>4 de agosto de 2016</td>\n",
       "      <td>50</td>\n",
       "      <td>Hace años no disfrutaba de un almuerzo en este...</td>\n",
       "      <td>Colombiana, Sudamericana</td>\n",
       "      <td>hace años disfrutaba almuerzo agradable restau...</td>\n",
       "      <td>hace años disfrutaba almuerzo agradable restau...</td>\n",
       "    </tr>\n",
       "    <tr>\n",
       "      <th>4</th>\n",
       "      <td>4</td>\n",
       "      <td>4</td>\n",
       "      <td>Casa Vieja Restaurante</td>\n",
       "      <td>Un clásico que no defrauda</td>\n",
       "      <td>1 de agosto de 2016</td>\n",
       "      <td>40</td>\n",
       "      <td>Lugar típico de cocina colombiana que uno no p...</td>\n",
       "      <td>Colombiana, Sudamericana</td>\n",
       "      <td>lugar típico cocina colombiana puede dejar vis...</td>\n",
       "      <td>lugar típico cocina colombiana puede dejar vis...</td>\n",
       "    </tr>\n",
       "  </tbody>\n",
       "</table>\n",
       "</div>"
      ],
      "text/plain": [
       "   Unnamed: 0  Unnamed: 0.1                  Nombre  \\\n",
       "0           0             0  Casa Vieja Restaurante   \n",
       "1           1             1  Casa Vieja Restaurante   \n",
       "2           2             2  Casa Vieja Restaurante   \n",
       "3           3             3  Casa Vieja Restaurante   \n",
       "4           4             4  Casa Vieja Restaurante   \n",
       "\n",
       "                                              Título  \\\n",
       "0       Comida Tiquita en un ambiente muy colombiano   \n",
       "1                                         Me gustó!!   \n",
       "2  Restaurante tradicional frente al Hotel Tequen...   \n",
       "3                                   QUE GRATO VOLVER   \n",
       "4                         Un clásico que no defrauda   \n",
       "\n",
       "                      Fecha  Rating  \\\n",
       "0     15 de octubre de 2019      50   \n",
       "1     22 de octubre de 2018      40   \n",
       "2  18 de septiembre de 2018      40   \n",
       "3       4 de agosto de 2016      50   \n",
       "4       1 de agosto de 2016      40   \n",
       "\n",
       "                                             Reviews  \\\n",
       "0  Tuve la experiencia de ir almozar a este típic...   \n",
       "1  El restaurante es agradable, antiguo y familia...   \n",
       "2  Llegamos tarde como a las 17 horas, ya no habí...   \n",
       "3  Hace años no disfrutaba de un almuerzo en este...   \n",
       "4  Lugar típico de cocina colombiana que uno no p...   \n",
       "\n",
       "                       Tipo  \\\n",
       "0  Colombiana, Sudamericana   \n",
       "1  Colombiana, Sudamericana   \n",
       "2  Colombiana, Sudamericana   \n",
       "3  Colombiana, Sudamericana   \n",
       "4  Colombiana, Sudamericana   \n",
       "\n",
       "                                     reviews_limpios  \\\n",
       "0  experiencia almozar típico restaurante colombi...   \n",
       "1  restaurante agradable antiguo familiar persona...   \n",
       "2  llegamos tarde horas público atendieron bien c...   \n",
       "3  hace años disfrutaba almuerzo agradable restau...   \n",
       "4  lugar típico cocina colombiana puede dejar vis...   \n",
       "\n",
       "                                  reviews_traducidas  \n",
       "0  experiencia almozar típico restaurante colombi...  \n",
       "1  restaurante agradable antiguo familiar persona...  \n",
       "2  llegamos tarde horas público atendieron bien c...  \n",
       "3  hace años disfrutaba almuerzo agradable restau...  \n",
       "4  lugar típico cocina colombiana puede dejar vis...  "
      ]
     },
     "execution_count": 15,
     "metadata": {},
     "output_type": "execute_result"
    }
   ],
   "source": [
    "df_reviews.head(5)"
   ]
  },
  {
   "cell_type": "code",
   "execution_count": null,
   "id": "81a975f3-6fd7-4e3a-b5df-47c95bca177a",
   "metadata": {},
   "outputs": [],
   "source": [
    "df = pd.read_csv(\"restaurant_reviews_clean.csv\")\n",
    "df['label'] = ''\n",
    "for i,x in df.reviews_traducidas.iteritems():\n",
    "    label = TextBlob(x)\n",
    "    df['label'][i] = label.sentiment.polarity\n",
    "    print(\"Index: \", i ,  \"label\" , label.sentiment.polarity)"
   ]
  },
  {
   "cell_type": "code",
   "execution_count": 4,
   "id": "24772afc-12c6-45dd-8886-6ea71b5f821a",
   "metadata": {},
   "outputs": [
    {
     "data": {
      "text/html": [
       "<div>\n",
       "<style scoped>\n",
       "    .dataframe tbody tr th:only-of-type {\n",
       "        vertical-align: middle;\n",
       "    }\n",
       "\n",
       "    .dataframe tbody tr th {\n",
       "        vertical-align: top;\n",
       "    }\n",
       "\n",
       "    .dataframe thead th {\n",
       "        text-align: right;\n",
       "    }\n",
       "</style>\n",
       "<table border=\"1\" class=\"dataframe\">\n",
       "  <thead>\n",
       "    <tr style=\"text-align: right;\">\n",
       "      <th></th>\n",
       "      <th>Unnamed: 0</th>\n",
       "      <th>Unnamed: 0.1</th>\n",
       "      <th>Nombre</th>\n",
       "      <th>Título</th>\n",
       "      <th>Fecha</th>\n",
       "      <th>Rating</th>\n",
       "      <th>Reviews</th>\n",
       "      <th>Tipo</th>\n",
       "      <th>reviews_limpios</th>\n",
       "      <th>label</th>\n",
       "    </tr>\n",
       "  </thead>\n",
       "  <tbody>\n",
       "    <tr>\n",
       "      <th>0</th>\n",
       "      <td>0</td>\n",
       "      <td>0</td>\n",
       "      <td>Casa Vieja Restaurante</td>\n",
       "      <td>Comida Tiquita en un ambiente muy colombiano</td>\n",
       "      <td>15 de octubre de 2019</td>\n",
       "      <td>50</td>\n",
       "      <td>Tuve la experiencia de ir almozar a este típic...</td>\n",
       "      <td>Colombiana, Sudamericana</td>\n",
       "      <td>experiencia almozar típico restaurante colombi...</td>\n",
       "      <td>0.0</td>\n",
       "    </tr>\n",
       "    <tr>\n",
       "      <th>1</th>\n",
       "      <td>1</td>\n",
       "      <td>1</td>\n",
       "      <td>Casa Vieja Restaurante</td>\n",
       "      <td>Me gustó!!</td>\n",
       "      <td>22 de octubre de 2018</td>\n",
       "      <td>40</td>\n",
       "      <td>El restaurante es agradable, antiguo y familia...</td>\n",
       "      <td>Colombiana, Sudamericana</td>\n",
       "      <td>restaurante agradable antiguo familiar persona...</td>\n",
       "      <td>0.1875</td>\n",
       "    </tr>\n",
       "    <tr>\n",
       "      <th>2</th>\n",
       "      <td>2</td>\n",
       "      <td>2</td>\n",
       "      <td>Casa Vieja Restaurante</td>\n",
       "      <td>Restaurante tradicional frente al Hotel Tequen...</td>\n",
       "      <td>18 de septiembre de 2018</td>\n",
       "      <td>40</td>\n",
       "      <td>Llegamos tarde como a las 17 horas, ya no habí...</td>\n",
       "      <td>Colombiana, Sudamericana</td>\n",
       "      <td>llegamos tarde horas público atendieron bien c...</td>\n",
       "      <td>0.0</td>\n",
       "    </tr>\n",
       "    <tr>\n",
       "      <th>3</th>\n",
       "      <td>3</td>\n",
       "      <td>3</td>\n",
       "      <td>Casa Vieja Restaurante</td>\n",
       "      <td>QUE GRATO VOLVER</td>\n",
       "      <td>4 de agosto de 2016</td>\n",
       "      <td>50</td>\n",
       "      <td>Hace años no disfrutaba de un almuerzo en este...</td>\n",
       "      <td>Colombiana, Sudamericana</td>\n",
       "      <td>hace años disfrutaba almuerzo agradable restau...</td>\n",
       "      <td>0.0</td>\n",
       "    </tr>\n",
       "    <tr>\n",
       "      <th>4</th>\n",
       "      <td>4</td>\n",
       "      <td>4</td>\n",
       "      <td>Casa Vieja Restaurante</td>\n",
       "      <td>Un clásico que no defrauda</td>\n",
       "      <td>1 de agosto de 2016</td>\n",
       "      <td>40</td>\n",
       "      <td>Lugar típico de cocina colombiana que uno no p...</td>\n",
       "      <td>Colombiana, Sudamericana</td>\n",
       "      <td>lugar típico cocina colombiana puede dejar vis...</td>\n",
       "      <td>0.0</td>\n",
       "    </tr>\n",
       "  </tbody>\n",
       "</table>\n",
       "</div>"
      ],
      "text/plain": [
       "   Unnamed: 0  Unnamed: 0.1                  Nombre  \\\n",
       "0           0             0  Casa Vieja Restaurante   \n",
       "1           1             1  Casa Vieja Restaurante   \n",
       "2           2             2  Casa Vieja Restaurante   \n",
       "3           3             3  Casa Vieja Restaurante   \n",
       "4           4             4  Casa Vieja Restaurante   \n",
       "\n",
       "                                              Título  \\\n",
       "0       Comida Tiquita en un ambiente muy colombiano   \n",
       "1                                         Me gustó!!   \n",
       "2  Restaurante tradicional frente al Hotel Tequen...   \n",
       "3                                   QUE GRATO VOLVER   \n",
       "4                         Un clásico que no defrauda   \n",
       "\n",
       "                      Fecha  Rating  \\\n",
       "0     15 de octubre de 2019      50   \n",
       "1     22 de octubre de 2018      40   \n",
       "2  18 de septiembre de 2018      40   \n",
       "3       4 de agosto de 2016      50   \n",
       "4       1 de agosto de 2016      40   \n",
       "\n",
       "                                             Reviews  \\\n",
       "0  Tuve la experiencia de ir almozar a este típic...   \n",
       "1  El restaurante es agradable, antiguo y familia...   \n",
       "2  Llegamos tarde como a las 17 horas, ya no habí...   \n",
       "3  Hace años no disfrutaba de un almuerzo en este...   \n",
       "4  Lugar típico de cocina colombiana que uno no p...   \n",
       "\n",
       "                       Tipo  \\\n",
       "0  Colombiana, Sudamericana   \n",
       "1  Colombiana, Sudamericana   \n",
       "2  Colombiana, Sudamericana   \n",
       "3  Colombiana, Sudamericana   \n",
       "4  Colombiana, Sudamericana   \n",
       "\n",
       "                                     reviews_limpios   label  \n",
       "0  experiencia almozar típico restaurante colombi...     0.0  \n",
       "1  restaurante agradable antiguo familiar persona...  0.1875  \n",
       "2  llegamos tarde horas público atendieron bien c...     0.0  \n",
       "3  hace años disfrutaba almuerzo agradable restau...     0.0  \n",
       "4  lugar típico cocina colombiana puede dejar vis...     0.0  "
      ]
     },
     "execution_count": 4,
     "metadata": {},
     "output_type": "execute_result"
    }
   ],
   "source": [
    "df.head(5)"
   ]
  },
  {
   "cell_type": "code",
   "execution_count": null,
   "id": "19909e87-1412-4f8c-a844-78b16d850d83",
   "metadata": {},
   "outputs": [],
   "source": []
  }
 ],
 "metadata": {
  "kernelspec": {
   "display_name": "Python 3",
   "language": "python",
   "name": "python3"
  },
  "language_info": {
   "codemirror_mode": {
    "name": "ipython",
    "version": 3
   },
   "file_extension": ".py",
   "mimetype": "text/x-python",
   "name": "python",
   "nbconvert_exporter": "python",
   "pygments_lexer": "ipython3",
   "version": "3.8.8"
  }
 },
 "nbformat": 4,
 "nbformat_minor": 5
}
