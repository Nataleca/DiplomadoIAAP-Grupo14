{
 "cells": [
  {
   "cell_type": "code",
   "execution_count": 80,
   "metadata": {},
   "outputs": [],
   "source": [
    "import pandas as pd"
   ]
  },
  {
   "cell_type": "code",
   "execution_count": 82,
   "metadata": {},
   "outputs": [],
   "source": [
    "df = pd.read_csv('restaurant_reviews_1.csv')"
   ]
  },
  {
   "cell_type": "code",
   "execution_count": 74,
   "metadata": {},
   "outputs": [
    {
     "name": "stdout",
     "output_type": "stream",
     "text": [
      "      Nombre  Título  Fecha  Rating  Reviews  Tipo\n",
      "1028  Nombre  Título  Fecha  Rating  Reviews  Tipo\n"
     ]
    }
   ],
   "source": [
    "print(df.loc[df['Nombre'] == \"Nombre\"])"
   ]
  },
  {
   "cell_type": "code",
   "execution_count": 75,
   "metadata": {},
   "outputs": [],
   "source": [
    "#Esta linea de codigo elimina todos las filas que contienen los titulos  como registro Nombre  Título  Fecha  Rating  Reviews  Tipo\n",
    "df.drop(index=df.loc[df['Nombre'] == \"Nombre\"].index,inplace=True)"
   ]
  },
  {
   "cell_type": "code",
   "execution_count": 77,
   "metadata": {},
   "outputs": [],
   "source": [
    "#Con estas lineas podemos indentificar los duplicados\n",
    "#duplicados = df[df.duplicated() == False]\n",
    "#print(duplicados)\n",
    "#df['Reviews'].duplicated().sum()\n",
    "\n",
    "#Con esta linea eliminamos los duplicados\n",
    "df = df.drop_duplicates(keep=False)"
   ]
  },
  {
   "cell_type": "code",
   "execution_count": null,
   "metadata": {},
   "outputs": [],
   "source": [
    "#Con esta linea creamos un nuevo archivo con todos los cambios\n",
    "df.to_csv(\"restaurant_reviews.csv\")"
   ]
  }
 ],
 "metadata": {
  "kernelspec": {
   "display_name": "Python 3",
   "language": "python",
   "name": "python3"
  },
  "language_info": {
   "codemirror_mode": {
    "name": "ipython",
    "version": 3
   },
   "file_extension": ".py",
   "mimetype": "text/x-python",
   "name": "python",
   "nbconvert_exporter": "python",
   "pygments_lexer": "ipython3",
   "version": "3.8.5"
  }
 },
 "nbformat": 4,
 "nbformat_minor": 4
}
