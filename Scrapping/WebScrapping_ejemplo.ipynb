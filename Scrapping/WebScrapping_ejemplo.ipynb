{
 "cells": [
  {
   "cell_type": "code",
   "execution_count": 25,
   "metadata": {},
   "outputs": [
    {
     "ename": "NameError",
     "evalue": "name 'ActionChains' is not defined",
     "output_type": "error",
     "traceback": [
      "\u001b[1;31m---------------------------------------------------------------------------\u001b[0m",
      "\u001b[1;31mNameError\u001b[0m                                 Traceback (most recent call last)",
      "\u001b[1;32m<ipython-input-25-3b7c3b1811a3>\u001b[0m in \u001b[0;36m<module>\u001b[1;34m\u001b[0m\n\u001b[0;32m      8\u001b[0m \u001b[1;31m#add your google map link whose data you want to scrape\u001b[0m\u001b[1;33m\u001b[0m\u001b[1;33m\u001b[0m\u001b[1;33m\u001b[0m\u001b[0m\n\u001b[0;32m      9\u001b[0m \u001b[0mbrowser\u001b[0m\u001b[1;33m.\u001b[0m\u001b[0mget\u001b[0m\u001b[1;33m(\u001b[0m\u001b[0mURL\u001b[0m\u001b[1;33m)\u001b[0m\u001b[1;33m\u001b[0m\u001b[1;33m\u001b[0m\u001b[0m\n\u001b[1;32m---> 10\u001b[1;33m \u001b[0mactions\u001b[0m \u001b[1;33m=\u001b[0m \u001b[0mActionChains\u001b[0m\u001b[1;33m(\u001b[0m\u001b[0mbrowser\u001b[0m\u001b[1;33m)\u001b[0m\u001b[1;33m\u001b[0m\u001b[1;33m\u001b[0m\u001b[0m\n\u001b[0m\u001b[0;32m     11\u001b[0m \u001b[0mbrowser\u001b[0m\u001b[1;33m.\u001b[0m\u001b[0mmaximize_window\u001b[0m\u001b[1;33m(\u001b[0m\u001b[1;33m)\u001b[0m\u001b[1;33m\u001b[0m\u001b[1;33m\u001b[0m\u001b[0m\n\u001b[0;32m     12\u001b[0m \u001b[0mtime\u001b[0m\u001b[1;33m.\u001b[0m\u001b[0msleep\u001b[0m\u001b[1;33m(\u001b[0m\u001b[1;36m3\u001b[0m\u001b[1;33m)\u001b[0m\u001b[1;33m\u001b[0m\u001b[1;33m\u001b[0m\u001b[0m\n",
      "\u001b[1;31mNameError\u001b[0m: name 'ActionChains' is not defined"
     ]
    }
   ],
   "source": [
    "from selenium import webdriver\n",
    "from selenium.webdriver.common.action_chains import ActionChains\n",
    "from selenium.webdriver.common.keys import Keys\n",
    "from bs4 import BeautifulSoup\n",
    "import time\n",
    "import io\n",
    "import pandas as pd\n",
    "\n",
    "\n",
    "#add your chrome driver path here\n",
    "browser = webdriver.Chrome('C://Users/grand/Documents/Diplomado Inteligencia Artificial/CursoAI/Entregables/Proyecto de Grado/chromedriver.exe')\n",
    "\n",
    "#add your google map link whose data you want to scrape\n",
    "browser.get('https://www.google.com/maps/place/Restaurante+Cassarola/@4.7053819,-74.2331616,17z/data=!4m7!3m6!1s0x8e3f77f74bf838d7:0x8cc170c67eb56881!8m2!3d4.7053819!4d-74.2309729!9m1!1b1')\n",
    "actions = ActionChains(browser)\n",
    "\n",
    "browser.maximize_window()\n",
    "time.sleep(3)\n",
    "content = browser.find_element_by_class_name('scrollable-show').click()\n",
    "htmlstring = browser.page_source\n",
    "afterstring=\"\"\n",
    "for i in range(12):\n",
    "    afterstring = htmlstring\n",
    "    actions.send_keys(Keys.PAGE_DOWN).perform()\n",
    "    htmlstring = browser.page_source\n",
    "    if (i>12):\n",
    "        print (\"ended scraping crack test one\")\n",
    "        actions.send_keys(Keys.PAGE_DOWN).perform()\n",
    "        htmlstring = browser.page_source\n",
    "        if (i>12):\n",
    "           print (\"--Scrapping End--\")\n",
    "           break\n",
    "    time.sleep(3)\n",
    "    \n",
    "\n",
    "textdoc = io.open(\"data.txt\", \"a+\", encoding=\"utf-8\")\n",
    "soup = BeautifulSoup(htmlstring,\"html.parser\")\n",
    "mydivs = soup.findAll(\"div\", {\"class\": \"section-review-content\"})\n",
    "counter = 0\n",
    "Reviwer_data ={'Reviewer Name':[],'Reviewer Rating':[],'Reviewer Profile URL':[],'Review':[],'Time':[]}\n",
    "for a in mydivs:\n",
    "    textdoc.write(str(\"\\nReviewer name: \"+a.find(\"div\", class_=\"section-review-title\").text)+\" \\n||Reviewerer Profile URL:\"+ str(a.find(\"a\").get('href')))\n",
    "    textdoc.write(\" \\n||Review:\" + a.find(\"span\", class_=\"section-review-text\").text+\" \\n||Time: \" + a.find(\"span\", class_=\"section-review-publish-date\").text)\n",
    "    textdoc.write(\"\\n\")\n",
    "    textdoc.write(str(a.find(\"span\", class_=\"section-review-stars\")))\n",
    "    textdoc.write(\"=========================================\\n\")\n",
    "    Reviwer_data['Reviewer Name'].append(a.find(\"div\", class_=\"section-review-title\").text)\n",
    "    Reviwer_data['Reviewer Rating'].append(str(a.find(\"span\", class_=\"section-review-stars\")))\n",
    "    Reviwer_data['Reviewer Profile URL'].append(str(a.find(\"a\").get('href')))\n",
    "    Reviwer_data['Review'].append(a.find(\"span\", class_=\"section-review-text\").text)\n",
    "    Reviwer_data['Time'].append(a.find(\"span\", class_=\"section-review-publish-date\").text)\n",
    "    counter = counter + 1\n",
    "print(\"Total reviews scraped:\"+str(counter))\n",
    "textdoc.close()\n",
    "pd.DataFrame(Reviwer_data).to_csv('data.csv',index=0)"
   ]
  }
 ],
 "metadata": {
  "kernelspec": {
   "display_name": "Python 3",
   "language": "python",
   "name": "python3"
  },
  "language_info": {
   "codemirror_mode": {
    "name": "ipython",
    "version": 3
   },
   "file_extension": ".py",
   "mimetype": "text/x-python",
   "name": "python",
   "nbconvert_exporter": "python",
   "pygments_lexer": "ipython3",
   "version": "3.8.5"
  }
 },
 "nbformat": 4,
 "nbformat_minor": 4
}
