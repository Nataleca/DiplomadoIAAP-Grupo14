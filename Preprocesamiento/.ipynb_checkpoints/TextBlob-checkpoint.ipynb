{
 "cells": [
  {
   "cell_type": "code",
   "execution_count": 6,
   "metadata": {},
   "outputs": [
    {
     "name": "stderr",
     "output_type": "stream",
     "text": [
      "[nltk_data] Downloading package punkt to /home/juanpablo/nltk_data...\n",
      "[nltk_data]   Package punkt is already up-to-date!\n",
      "[nltk_data] Downloading package stopwords to\n",
      "[nltk_data]     /home/juanpablo/nltk_data...\n",
      "[nltk_data]   Package stopwords is already up-to-date!\n",
      "[nltk_data] Downloading package wordnet to\n",
      "[nltk_data]     /home/juanpablo/nltk_data...\n",
      "[nltk_data]   Package wordnet is already up-to-date!\n"
     ]
    }
   ],
   "source": [
    "import pandas as pd\n",
    "import numpy as np\n",
    "import re\n",
    "import nltk\n",
    "import matplotlib.pyplot as plt\n",
    "import gensim\n",
    "from gensim.parsing.preprocessing import STOPWORDS\n",
    "\n",
    "pd.options.display.max_colwidth = 200\n",
    "\n",
    "# tokenizadores\n",
    "from nltk.tokenize import sent_tokenize, word_tokenize \n",
    "from nltk.tokenize import TweetTokenizer\n",
    "\n",
    "# diccionarios especiales para puntuación y palabras vacias\n",
    "nltk.download('punkt') # Manejo de puntuación\n",
    "nltk.download('stopwords')\n",
    "\n",
    "# wordnet\n",
    "nltk.download('wordnet')\n",
    "\n",
    "from nltk.corpus import stopwords\n",
    "\n",
    "# lematizador basado en WordNet de nltk\n",
    "from nltk.stem import WordNetLemmatizer \n",
    "\n",
    "# steemer de nltk. Raiz de las palabras\n",
    "#from nltk.stem import SnowballStemmer\n",
    "from nltk.stem import PorterStemmer \n",
    "\n",
    "%matplotlib inline\n"
   ]
  },
  {
   "cell_type": "code",
   "execution_count": 9,
   "metadata": {},
   "outputs": [],
   "source": [
    "df_reviews = pd.read_csv('restaurant_reviews.csv')\n",
    "text = df_reviews[\"Reviews\"]"
   ]
  },
  {
   "cell_type": "code",
   "execution_count": 10,
   "metadata": {},
   "outputs": [],
   "source": [
    "wpt = nltk.WordPunctTokenizer()\n",
    "stop_words = nltk.corpus.stopwords.words('spanish')\n",
    "\n",
    "def normalize_document(doc):\n",
    "    # remove special characters: \n",
    "    doc = re.sub(r'\\d+', '', doc, re.I|re.A)\n",
    "    doc = re.sub(r'[^\\w\\s]', '', doc, re.I|re.A)\n",
    "    doc = re.sub(r'[()]', '', doc, re.I|re.A)\n",
    "    # transform to lower case\n",
    "    doc = doc.lower()\n",
    "    # remove \\whitespaces\n",
    "    doc = doc.strip()\n",
    "    # tokenize document\n",
    "    tokens = wpt.tokenize(doc)\n",
    "    # filter stopwords out of document\n",
    "    filtered_tokens = [token for token in tokens if token not in stop_words]\n",
    "    filtered_tokens_1 = [token for token in filtered_tokens if len(token) > 3]\n",
    "     # re-create document from filtered tokens\n",
    "    doc = ' '.join(filtered_tokens_1)\n",
    "    return doc\n",
    "\n",
    "# crea una función vectorizada para que actué sobre múltiples textos\n",
    "normalize_reviews = np.vectorize(normalize_document)\n",
    "#normalize_corpus"
   ]
  },
  {
   "cell_type": "code",
   "execution_count": 11,
   "metadata": {},
   "outputs": [],
   "source": [
    "norm_reviews = normalize_reviews(text)\n",
    "#norm_reviews"
   ]
  },
  {
   "cell_type": "code",
   "execution_count": null,
   "metadata": {},
   "outputs": [
    {
     "name": "stdout",
     "output_type": "stream",
     "text": [
      "Precisión positiva = 100.0%  - Precisión negativa = 0.0% via 1 ejemplos\n",
      "Precisión positiva = 100.0%  - Precisión negativa = 0.0% via 2 ejemplos\n",
      "Precisión positiva = 100.0%  - Precisión negativa = 0.0% via 3 ejemplos\n",
      "Precisión positiva = 100.0%  - Precisión negativa = 0.0% via 4 ejemplos\n",
      "Precisión positiva = 80.0%  - Precisión negativa = 20.0% via 5 ejemplos\n",
      "Precisión positiva = 66.66666666666666%  - Precisión negativa = 33.33333333333333% via 6 ejemplos\n",
      "Precisión positiva = 71.42857142857143%  - Precisión negativa = 28.57142857142857% via 7 ejemplos\n",
      "Precisión positiva = 75.0%  - Precisión negativa = 25.0% via 8 ejemplos\n",
      "Precisión positiva = 66.66666666666666%  - Precisión negativa = 33.33333333333333% via 9 ejemplos\n",
      "Precisión positiva = 70.0%  - Precisión negativa = 30.0% via 10 ejemplos\n",
      "Precisión positiva = 63.63636363636363%  - Precisión negativa = 36.36363636363637% via 11 ejemplos\n",
      "Precisión positiva = 58.333333333333336%  - Precisión negativa = 41.66666666666667% via 12 ejemplos\n",
      "Precisión positiva = 61.53846153846154%  - Precisión negativa = 38.46153846153847% via 13 ejemplos\n",
      "Precisión positiva = 64.28571428571429%  - Precisión negativa = 35.714285714285715% via 14 ejemplos\n",
      "Precisión positiva = 66.66666666666666%  - Precisión negativa = 33.33333333333333% via 15 ejemplos\n",
      "Precisión positiva = 68.75%  - Precisión negativa = 31.25% via 16 ejemplos\n",
      "Precisión positiva = 70.58823529411765%  - Precisión negativa = 29.411764705882355% via 17 ejemplos\n",
      "Precisión positiva = 72.22222222222221%  - Precisión negativa = 27.77777777777778% via 18 ejemplos\n",
      "Precisión positiva = 73.68421052631578%  - Precisión negativa = 26.31578947368421% via 19 ejemplos\n",
      "Precisión positiva = 75.0%  - Precisión negativa = 25.0% via 20 ejemplos\n",
      "Precisión positiva = 76.19047619047619%  - Precisión negativa = 23.809523809523807% via 21 ejemplos\n",
      "Precisión positiva = 77.27272727272727%  - Precisión negativa = 22.727272727272727% via 22 ejemplos\n",
      "Precisión positiva = 78.26086956521739%  - Precisión negativa = 21.73913043478261% via 23 ejemplos\n",
      "Precisión positiva = 79.16666666666666%  - Precisión negativa = 20.833333333333336% via 24 ejemplos\n",
      "Precisión positiva = 80.0%  - Precisión negativa = 20.0% via 25 ejemplos\n",
      "Precisión positiva = 80.76923076923077%  - Precisión negativa = 19.230769230769234% via 26 ejemplos\n",
      "Precisión positiva = 81.48148148148148%  - Precisión negativa = 18.51851851851852% via 27 ejemplos\n",
      "Precisión positiva = 82.14285714285714%  - Precisión negativa = 17.857142857142858% via 28 ejemplos\n",
      "Precisión positiva = 82.75862068965517%  - Precisión negativa = 17.24137931034483% via 29 ejemplos\n",
      "Precisión positiva = 83.33333333333334%  - Precisión negativa = 16.666666666666664% via 30 ejemplos\n",
      "Precisión positiva = 83.87096774193549%  - Precisión negativa = 16.129032258064516% via 31 ejemplos\n",
      "Precisión positiva = 84.375%  - Precisión negativa = 15.625% via 32 ejemplos\n",
      "Precisión positiva = 84.84848484848484%  - Precisión negativa = 15.151515151515152% via 33 ejemplos\n",
      "Precisión positiva = 85.29411764705883%  - Precisión negativa = 14.705882352941178% via 34 ejemplos\n",
      "Precisión positiva = 85.71428571428571%  - Precisión negativa = 14.285714285714285% via 35 ejemplos\n",
      "Precisión positiva = 86.11111111111111%  - Precisión negativa = 13.88888888888889% via 36 ejemplos\n",
      "Precisión positiva = 86.48648648648648%  - Precisión negativa = 13.513513513513514% via 37 ejemplos\n",
      "Precisión positiva = 86.8421052631579%  - Precisión negativa = 13.157894736842104% via 38 ejemplos\n",
      "Precisión positiva = 87.17948717948718%  - Precisión negativa = 12.82051282051282% via 39 ejemplos\n",
      "Precisión positiva = 87.5%  - Precisión negativa = 12.5% via 40 ejemplos\n",
      "Precisión positiva = 87.8048780487805%  - Precisión negativa = 12.195121951219512% via 41 ejemplos\n",
      "Precisión positiva = 88.09523809523809%  - Precisión negativa = 11.904761904761903% via 42 ejemplos\n",
      "Precisión positiva = 88.37209302325581%  - Precisión negativa = 11.627906976744185% via 43 ejemplos\n",
      "Precisión positiva = 88.63636363636364%  - Precisión negativa = 11.363636363636363% via 44 ejemplos\n",
      "Precisión positiva = 88.88888888888889%  - Precisión negativa = 11.11111111111111% via 45 ejemplos\n",
      "Precisión positiva = 89.13043478260869%  - Precisión negativa = 10.869565217391305% via 46 ejemplos\n",
      "Precisión positiva = 89.36170212765957%  - Precisión negativa = 10.638297872340425% via 47 ejemplos\n"
     ]
    }
   ],
   "source": [
    "from textblob import TextBlob\n",
    "\n",
    "pos_count = 0\n",
    "pos_correct = 0\n",
    "neg_count = 0\n",
    "neg_correct = 0\n",
    "\n",
    "for i in range(0,len(norm_reviews)):\n",
    "    for line in norm_reviews[i:i+1]:\n",
    "        analysis = TextBlob(line)\n",
    "        #print(line)\n",
    "        try:\n",
    "          eng=analysis.translate(to='en')\n",
    "          if eng.sentiment.polarity > 0:\n",
    "            pos_correct += 1\n",
    "          pos_count +=1\n",
    "        except:\n",
    "        #Mostramos este mensaje en caso de que se presente algún problema\n",
    "          print (\"El elemento no está presente\")\n",
    "        \n",
    "    for line in norm_reviews[i:i+1]:\n",
    "        analysis = TextBlob(line)\n",
    "        #print(line)\n",
    "        try:\n",
    "          eng=analysis.translate(to='en')\n",
    "          if eng.sentiment.polarity <= 0:\n",
    "            neg_correct += 1\n",
    "          neg_count +=1\n",
    "        except:\n",
    "          print('el elemento no esta presente')\n",
    "        \n",
    "    print(\"Precisión positiva = {}% \".format(pos_correct/pos_count*100.0),'-',\n",
    "          \"Precisión negativa = {}% via {} ejemplos\".format(neg_correct/neg_count*100.0, neg_count))"
   ]
  }
 ],
 "metadata": {
  "kernelspec": {
   "display_name": "Python 3",
   "language": "python",
   "name": "python3"
  },
  "language_info": {
   "codemirror_mode": {
    "name": "ipython",
    "version": 3
   },
   "file_extension": ".py",
   "mimetype": "text/x-python",
   "name": "python",
   "nbconvert_exporter": "python",
   "pygments_lexer": "ipython3",
   "version": "3.8.5"
  }
 },
 "nbformat": 4,
 "nbformat_minor": 4
}
