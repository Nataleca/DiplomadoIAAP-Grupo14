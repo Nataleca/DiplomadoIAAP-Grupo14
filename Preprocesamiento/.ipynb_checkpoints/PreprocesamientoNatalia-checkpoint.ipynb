{
 "cells": [
  {
   "cell_type": "markdown",
   "metadata": {},
   "source": [
    "# **Preprocesamiento de la base de datos**"
   ]
  },
  {
   "cell_type": "markdown",
   "metadata": {},
   "source": [
    "Importaremos las librerías y utilidades necesarias para el preprocesamiento de los reviews"
   ]
  },
  {
   "cell_type": "code",
   "execution_count": 376,
   "metadata": {},
   "outputs": [
    {
     "name": "stderr",
     "output_type": "stream",
     "text": [
      "[nltk_data] Downloading package punkt to /home/natalia/nltk_data...\n",
      "[nltk_data]   Package punkt is already up-to-date!\n",
      "[nltk_data] Downloading package stopwords to\n",
      "[nltk_data]     /home/natalia/nltk_data...\n",
      "[nltk_data]   Package stopwords is already up-to-date!\n",
      "[nltk_data] Downloading package wordnet to /home/natalia/nltk_data...\n",
      "[nltk_data]   Package wordnet is already up-to-date!\n"
     ]
    }
   ],
   "source": [
    "import nltk\n",
    "from nltk.tokenize import sent_tokenize, word_tokenize \n",
    "from nltk.tokenize import TweetTokenizer\n",
    "\n",
    "# diccionarios especiales para puntuación y palabras vacias\n",
    "nltk.download('punkt') # Manejo de puntuación\n",
    "nltk.download('stopwords')\n",
    "\n",
    "# wordnet\n",
    "nltk.download('wordnet')\n",
    "\n",
    "from nltk.corpus import stopwords\n",
    "\n",
    "# lematizador basado en WordNet de nltk\n",
    "from nltk.stem import WordNetLemmatizer \n",
    "\n",
    "# steemer de nltk. Raiz de las palabras\n",
    "#from nltk.stem import SnowballStemmer\n",
    "from nltk.stem import PorterStemmer "
   ]
  },
  {
   "cell_type": "code",
   "execution_count": 377,
   "metadata": {},
   "outputs": [],
   "source": [
    "import gensim\n",
    "from gensim.parsing.preprocessing import STOPWORDS"
   ]
  },
  {
   "cell_type": "code",
   "execution_count": 378,
   "metadata": {},
   "outputs": [],
   "source": [
    "import pandas as pd\n",
    "import numpy as np\n",
    "import statistics as st \n",
    "import matplotlib.pyplot as plt\n",
    "import seaborn as sb\n",
    "import tensorflow as tf\n",
    "import re"
   ]
  },
  {
   "cell_type": "markdown",
   "metadata": {},
   "source": [
    "Cargamos la base de datos"
   ]
  },
  {
   "cell_type": "code",
   "execution_count": 379,
   "metadata": {},
   "outputs": [
    {
     "data": {
      "text/html": [
       "<div>\n",
       "<style scoped>\n",
       "    .dataframe tbody tr th:only-of-type {\n",
       "        vertical-align: middle;\n",
       "    }\n",
       "\n",
       "    .dataframe tbody tr th {\n",
       "        vertical-align: top;\n",
       "    }\n",
       "\n",
       "    .dataframe thead th {\n",
       "        text-align: right;\n",
       "    }\n",
       "</style>\n",
       "<table border=\"1\" class=\"dataframe\">\n",
       "  <thead>\n",
       "    <tr style=\"text-align: right;\">\n",
       "      <th></th>\n",
       "      <th>Unnamed: 0</th>\n",
       "      <th>Nombre</th>\n",
       "      <th>Título</th>\n",
       "      <th>Fecha</th>\n",
       "      <th>Rating</th>\n",
       "      <th>Reviews</th>\n",
       "      <th>Tipo</th>\n",
       "    </tr>\n",
       "  </thead>\n",
       "  <tbody>\n",
       "    <tr>\n",
       "      <th>0</th>\n",
       "      <td>0</td>\n",
       "      <td>Casa Vieja Restaurante</td>\n",
       "      <td>Comida Tiquita en un ambiente muy colombiano</td>\n",
       "      <td>15 de octubre de 2019</td>\n",
       "      <td>50</td>\n",
       "      <td>Tuve la experiencia de ir almozar a este típic...</td>\n",
       "      <td>Colombiana, Sudamericana</td>\n",
       "    </tr>\n",
       "    <tr>\n",
       "      <th>1</th>\n",
       "      <td>1</td>\n",
       "      <td>Casa Vieja Restaurante</td>\n",
       "      <td>Me gustó!!</td>\n",
       "      <td>22 de octubre de 2018</td>\n",
       "      <td>40</td>\n",
       "      <td>El restaurante es agradable, antiguo y familia...</td>\n",
       "      <td>Colombiana, Sudamericana</td>\n",
       "    </tr>\n",
       "    <tr>\n",
       "      <th>2</th>\n",
       "      <td>2</td>\n",
       "      <td>Casa Vieja Restaurante</td>\n",
       "      <td>Restaurante tradicional frente al Hotel Tequen...</td>\n",
       "      <td>18 de septiembre de 2018</td>\n",
       "      <td>40</td>\n",
       "      <td>Llegamos tarde como a las 17 horas, ya no habí...</td>\n",
       "      <td>Colombiana, Sudamericana</td>\n",
       "    </tr>\n",
       "    <tr>\n",
       "      <th>3</th>\n",
       "      <td>3</td>\n",
       "      <td>Casa Vieja Restaurante</td>\n",
       "      <td>QUE GRATO VOLVER</td>\n",
       "      <td>4 de agosto de 2016</td>\n",
       "      <td>50</td>\n",
       "      <td>Hace años no disfrutaba de un almuerzo en este...</td>\n",
       "      <td>Colombiana, Sudamericana</td>\n",
       "    </tr>\n",
       "    <tr>\n",
       "      <th>4</th>\n",
       "      <td>4</td>\n",
       "      <td>Casa Vieja Restaurante</td>\n",
       "      <td>Un clásico que no defrauda</td>\n",
       "      <td>1 de agosto de 2016</td>\n",
       "      <td>40</td>\n",
       "      <td>Lugar típico de cocina colombiana que uno no p...</td>\n",
       "      <td>Colombiana, Sudamericana</td>\n",
       "    </tr>\n",
       "  </tbody>\n",
       "</table>\n",
       "</div>"
      ],
      "text/plain": [
       "   Unnamed: 0                  Nombre  \\\n",
       "0           0  Casa Vieja Restaurante   \n",
       "1           1  Casa Vieja Restaurante   \n",
       "2           2  Casa Vieja Restaurante   \n",
       "3           3  Casa Vieja Restaurante   \n",
       "4           4  Casa Vieja Restaurante   \n",
       "\n",
       "                                              Título  \\\n",
       "0       Comida Tiquita en un ambiente muy colombiano   \n",
       "1                                         Me gustó!!   \n",
       "2  Restaurante tradicional frente al Hotel Tequen...   \n",
       "3                                   QUE GRATO VOLVER   \n",
       "4                         Un clásico que no defrauda   \n",
       "\n",
       "                      Fecha  Rating  \\\n",
       "0     15 de octubre de 2019      50   \n",
       "1     22 de octubre de 2018      40   \n",
       "2  18 de septiembre de 2018      40   \n",
       "3       4 de agosto de 2016      50   \n",
       "4       1 de agosto de 2016      40   \n",
       "\n",
       "                                             Reviews                      Tipo  \n",
       "0  Tuve la experiencia de ir almozar a este típic...  Colombiana, Sudamericana  \n",
       "1  El restaurante es agradable, antiguo y familia...  Colombiana, Sudamericana  \n",
       "2  Llegamos tarde como a las 17 horas, ya no habí...  Colombiana, Sudamericana  \n",
       "3  Hace años no disfrutaba de un almuerzo en este...  Colombiana, Sudamericana  \n",
       "4  Lugar típico de cocina colombiana que uno no p...  Colombiana, Sudamericana  "
      ]
     },
     "execution_count": 379,
     "metadata": {},
     "output_type": "execute_result"
    }
   ],
   "source": [
    "restaurants=pd.read_csv('/home/natalia/Documentos/Jupyter Lab/Proyecto/Análsis Restaurantes/restaurant_reviews_2.csv')\n",
    "restaurants.head()"
   ]
  },
  {
   "cell_type": "code",
   "execution_count": 380,
   "metadata": {},
   "outputs": [
    {
     "data": {
      "text/html": [
       "<div>\n",
       "<style scoped>\n",
       "    .dataframe tbody tr th:only-of-type {\n",
       "        vertical-align: middle;\n",
       "    }\n",
       "\n",
       "    .dataframe tbody tr th {\n",
       "        vertical-align: top;\n",
       "    }\n",
       "\n",
       "    .dataframe thead th {\n",
       "        text-align: right;\n",
       "    }\n",
       "</style>\n",
       "<table border=\"1\" class=\"dataframe\">\n",
       "  <thead>\n",
       "    <tr style=\"text-align: right;\">\n",
       "      <th></th>\n",
       "      <th>Nombre</th>\n",
       "      <th>Título</th>\n",
       "      <th>Fecha</th>\n",
       "      <th>Rating</th>\n",
       "      <th>Reviews</th>\n",
       "      <th>Tipo</th>\n",
       "    </tr>\n",
       "  </thead>\n",
       "  <tbody>\n",
       "    <tr>\n",
       "      <th>0</th>\n",
       "      <td>Casa Vieja Restaurante</td>\n",
       "      <td>Comida Tiquita en un ambiente muy colombiano</td>\n",
       "      <td>15 de octubre de 2019</td>\n",
       "      <td>50</td>\n",
       "      <td>Tuve la experiencia de ir almozar a este típic...</td>\n",
       "      <td>Colombiana, Sudamericana</td>\n",
       "    </tr>\n",
       "    <tr>\n",
       "      <th>1</th>\n",
       "      <td>Casa Vieja Restaurante</td>\n",
       "      <td>Me gustó!!</td>\n",
       "      <td>22 de octubre de 2018</td>\n",
       "      <td>40</td>\n",
       "      <td>El restaurante es agradable, antiguo y familia...</td>\n",
       "      <td>Colombiana, Sudamericana</td>\n",
       "    </tr>\n",
       "    <tr>\n",
       "      <th>2</th>\n",
       "      <td>Casa Vieja Restaurante</td>\n",
       "      <td>Restaurante tradicional frente al Hotel Tequen...</td>\n",
       "      <td>18 de septiembre de 2018</td>\n",
       "      <td>40</td>\n",
       "      <td>Llegamos tarde como a las 17 horas, ya no habí...</td>\n",
       "      <td>Colombiana, Sudamericana</td>\n",
       "    </tr>\n",
       "    <tr>\n",
       "      <th>3</th>\n",
       "      <td>Casa Vieja Restaurante</td>\n",
       "      <td>QUE GRATO VOLVER</td>\n",
       "      <td>4 de agosto de 2016</td>\n",
       "      <td>50</td>\n",
       "      <td>Hace años no disfrutaba de un almuerzo en este...</td>\n",
       "      <td>Colombiana, Sudamericana</td>\n",
       "    </tr>\n",
       "    <tr>\n",
       "      <th>4</th>\n",
       "      <td>Casa Vieja Restaurante</td>\n",
       "      <td>Un clásico que no defrauda</td>\n",
       "      <td>1 de agosto de 2016</td>\n",
       "      <td>40</td>\n",
       "      <td>Lugar típico de cocina colombiana que uno no p...</td>\n",
       "      <td>Colombiana, Sudamericana</td>\n",
       "    </tr>\n",
       "  </tbody>\n",
       "</table>\n",
       "</div>"
      ],
      "text/plain": [
       "                   Nombre                                             Título  \\\n",
       "0  Casa Vieja Restaurante       Comida Tiquita en un ambiente muy colombiano   \n",
       "1  Casa Vieja Restaurante                                         Me gustó!!   \n",
       "2  Casa Vieja Restaurante  Restaurante tradicional frente al Hotel Tequen...   \n",
       "3  Casa Vieja Restaurante                                   QUE GRATO VOLVER   \n",
       "4  Casa Vieja Restaurante                         Un clásico que no defrauda   \n",
       "\n",
       "                      Fecha  Rating  \\\n",
       "0     15 de octubre de 2019      50   \n",
       "1     22 de octubre de 2018      40   \n",
       "2  18 de septiembre de 2018      40   \n",
       "3       4 de agosto de 2016      50   \n",
       "4       1 de agosto de 2016      40   \n",
       "\n",
       "                                             Reviews                      Tipo  \n",
       "0  Tuve la experiencia de ir almozar a este típic...  Colombiana, Sudamericana  \n",
       "1  El restaurante es agradable, antiguo y familia...  Colombiana, Sudamericana  \n",
       "2  Llegamos tarde como a las 17 horas, ya no habí...  Colombiana, Sudamericana  \n",
       "3  Hace años no disfrutaba de un almuerzo en este...  Colombiana, Sudamericana  \n",
       "4  Lugar típico de cocina colombiana que uno no p...  Colombiana, Sudamericana  "
      ]
     },
     "execution_count": 380,
     "metadata": {},
     "output_type": "execute_result"
    }
   ],
   "source": [
    "del restaurants['Unnamed: 0']\n",
    "restaurants.head()"
   ]
  },
  {
   "cell_type": "markdown",
   "metadata": {},
   "source": [
    "Se realiza un análisis descriptivo inicial:"
   ]
  },
  {
   "cell_type": "code",
   "execution_count": 381,
   "metadata": {},
   "outputs": [
    {
     "name": "stdout",
     "output_type": "stream",
     "text": [
      "(44183, 6)\n",
      "<class 'pandas.core.frame.DataFrame'>\n",
      "RangeIndex: 44183 entries, 0 to 44182\n",
      "Data columns (total 6 columns):\n",
      " #   Column   Non-Null Count  Dtype \n",
      "---  ------   --------------  ----- \n",
      " 0   Nombre   44183 non-null  object\n",
      " 1   Título   44183 non-null  object\n",
      " 2   Fecha    44183 non-null  object\n",
      " 3   Rating   44183 non-null  int64 \n",
      " 4   Reviews  44183 non-null  object\n",
      " 5   Tipo     44183 non-null  object\n",
      "dtypes: int64(1), object(5)\n",
      "memory usage: 2.0+ MB\n",
      "None\n"
     ]
    }
   ],
   "source": [
    "print(restaurants.shape)# imprime las dimensiones de la base de datos\n",
    "print(restaurants.info())# imprime información sobre la estructura de la base de datos"
   ]
  },
  {
   "cell_type": "markdown",
   "metadata": {},
   "source": [
    "Analizaremos inicialmente la variable **Rating** que corresponde al número de estrellas asociadas con cada opinión:"
   ]
  },
  {
   "cell_type": "code",
   "execution_count": 382,
   "metadata": {},
   "outputs": [
    {
     "name": "stdout",
     "output_type": "stream",
     "text": [
      "count    44183.000000\n",
      "mean        42.275536\n",
      "std         10.848959\n",
      "min         10.000000\n",
      "25%         40.000000\n",
      "50%         50.000000\n",
      "75%         50.000000\n",
      "max         50.000000\n",
      "Name: Rating, dtype: float64\n"
     ]
    }
   ],
   "source": [
    "rating=restaurants.iloc[:,3]\n",
    "print(rating.describe())"
   ]
  },
  {
   "cell_type": "code",
   "execution_count": 383,
   "metadata": {},
   "outputs": [
    {
     "name": "stdout",
     "output_type": "stream",
     "text": [
      "Counter({50: 23961, 40: 12362, 30: 3977, 10: 2164, 20: 1719})\n"
     ]
    }
   ],
   "source": [
    "import collections\n",
    "counter=collections.Counter(rating)\n",
    "print(counter)"
   ]
  },
  {
   "cell_type": "code",
   "execution_count": 384,
   "metadata": {},
   "outputs": [
    {
     "data": {
      "image/png": "[encoded data removed]",
      "text/plain": [
       "<Figure size 432x288 with 1 Axes>"
      ]
     },
     "metadata": {
      "needs_background": "light"
     },
     "output_type": "display_data"
    }
   ],
   "source": [
    "ejex=list(counter.keys())\n",
    "ejey=list(counter.values())\n",
    "plt.bar(ejex, ejey,color ='maroon',width = 5)\n",
    "plt.ylabel('Frecuencia Absoluta')\n",
    "plt.xlabel('Rating')\n",
    "plt.title('Número de Restaurantes por Rating')\n",
    "plt.show()"
   ]
  },
  {
   "cell_type": "markdown",
   "metadata": {},
   "source": [
    "Con la finalidad de determinar la polaridad de los reviews, se preprocesarán los comentarios eliminando palabras vacías, expresiones regulares, entre otros caracteres."
   ]
  },
  {
   "cell_type": "code",
   "execution_count": 385,
   "metadata": {},
   "outputs": [
    {
     "name": "stdout",
     "output_type": "stream",
     "text": [
      "0        Tuve la experiencia de ir almozar a este típic...\n",
      "1        El restaurante es agradable, antiguo y familia...\n",
      "2        Llegamos tarde como a las 17 horas, ya no habí...\n",
      "3        Hace años no disfrutaba de un almuerzo en este...\n",
      "4        Lugar típico de cocina colombiana que uno no p...\n",
      "                               ...                        \n",
      "44178    Un ambiente muy exclusivo con excelente comida...\n",
      "44179    gran experiencia no se puede explicar con pala...\n",
      "44180    Si vas a Andrés usted no sólo tendrá un sabor ...\n",
      "44181    Andrés Carne de Res es sin duda uno de los lug...\n",
      "44182    No he encontrado otro restaurante en el mundo....\n",
      "Name: Reviews, Length: 44183, dtype: object\n"
     ]
    }
   ],
   "source": [
    "reviews = restaurants[\"Reviews\"]\n",
    "print(reviews)"
   ]
  },
  {
   "cell_type": "code",
   "execution_count": 386,
   "metadata": {},
   "outputs": [],
   "source": [
    "wpt = nltk.WordPunctTokenizer()\n",
    "stop_words = nltk.corpus.stopwords.words('spanish')\n",
    "\n",
    "def normalize_document(doc):\n",
    "    # remove special characters: \n",
    "    doc = re.sub(r'\\d+', '', doc, re.I|re.A)\n",
    "    doc = re.sub(r'[^\\w\\s]','', doc, re.I|re.A)\n",
    "    #doc = re.sub(r'[()]','', doc, re.I|re.A)\n",
    "    # transform to lower case\n",
    "    doc = doc.lower()\n",
    "    # remove \\whitespaces\n",
    "    doc = doc.strip()\n",
    "    # tokenize document\n",
    "    tokens = wpt.tokenize(doc)\n",
    "    # filter stopwords out of document\n",
    "    filtered_tokens = [token for token in tokens if token not in stop_words]\n",
    "    filtered_tokens = [token for token in filtered_tokens if len(token) > 3]\n",
    "    # re-create document from filtered tokens\n",
    "    doc = ' '.join(filtered_tokens)\n",
    "    return doc\n",
    "\n",
    "# crea una función vectorizada para que actué sobre múltiples textos\n",
    "normalize_corpus = np.vectorize(normalize_document)\n",
    "#normalize_corpus"
   ]
  },
  {
   "cell_type": "code",
   "execution_count": 387,
   "metadata": {},
   "outputs": [
    {
     "name": "stdout",
     "output_type": "stream",
     "text": [
      "['experiencia almozar típico restaurante colombiano centro bogota platos deliciosos además mezcla sabores cultura puede dejar probar'\n",
      " 'restaurante agradable antiguo familiar personal agradó bastante servicio bueno comida típica colombiana bien lograda clásico tour gastronómico bogotá recomendado'\n",
      " 'llegamos tarde horas público atendieron bien comimos deliciosos platos típicos bogotá música fondo encantó parece ayuda tradición lugar años prestigio'\n",
      " ...\n",
      " 'andrés usted sólo sabor mejores platos colombianas podrá disfrutar gran fiesta actitud hapiness gran colombianos'\n",
      " 'andrés carne duda lugares fantásticos mundo bogotá pierdas increíble unforgettale'\n",
      " 'encontrado restaurante mundo fundada músico local celebridades restaurante club combinado edificio varios pisos preocupes comida bastante buena mejor ambiente gente viendo']\n"
     ]
    }
   ],
   "source": [
    "norm_rev=normalize_corpus(reviews)\n",
    "print(norm_rev)"
   ]
  }
 ],
 "metadata": {
  "kernelspec": {
   "display_name": "Python 3",
   "language": "python",
   "name": "python3"
  },
  "language_info": {
   "codemirror_mode": {
    "name": "ipython",
    "version": 3
   },
   "file_extension": ".py",
   "mimetype": "text/x-python",
   "name": "python",
   "nbconvert_exporter": "python",
   "pygments_lexer": "ipython3",
   "version": "3.8.5"
  }
 },
 "nbformat": 4,
 "nbformat_minor": 4
}
